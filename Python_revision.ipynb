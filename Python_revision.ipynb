{
  "nbformat": 4,
  "nbformat_minor": 0,
  "metadata": {
    "colab": {
      "provenance": [],
      "authorship_tag": "ABX9TyMEHxcELnZPVR6o+rrjXv52",
      "include_colab_link": true
    },
    "kernelspec": {
      "name": "python3",
      "display_name": "Python 3"
    },
    "language_info": {
      "name": "python"
    }
  },
  "cells": [
    {
      "cell_type": "markdown",
      "metadata": {
        "id": "view-in-github",
        "colab_type": "text"
      },
      "source": [
        "<a href=\"https://colab.research.google.com/github/vrijrajsinghgaur/python-for-Data-Science/blob/main/Python_revision.ipynb\" target=\"_parent\"><img src=\"https://colab.research.google.com/assets/colab-badge.svg\" alt=\"Open In Colab\"/></a>"
      ]
    },
    {
      "cell_type": "code",
      "source": [
        "a = 1"
      ],
      "metadata": {
        "id": "LNlpnB3AKLxg"
      },
      "execution_count": null,
      "outputs": []
    },
    {
      "cell_type": "code",
      "source": [
        "type(a)"
      ],
      "metadata": {
        "colab": {
          "base_uri": "https://localhost:8080/"
        },
        "id": "BYiYxyIhKTio",
        "outputId": "da18652c-16dc-4623-9e74-4ed52f9c6503"
      },
      "execution_count": null,
      "outputs": [
        {
          "output_type": "execute_result",
          "data": {
            "text/plain": [
              "int"
            ]
          },
          "metadata": {},
          "execution_count": 3
        }
      ]
    },
    {
      "cell_type": "code",
      "source": [
        "e = False"
      ],
      "metadata": {
        "id": "fONcfSUlKV3l"
      },
      "execution_count": null,
      "outputs": []
    },
    {
      "cell_type": "code",
      "source": [
        "type(e)"
      ],
      "metadata": {
        "colab": {
          "base_uri": "https://localhost:8080/"
        },
        "id": "qpgf3qH8Kf5c",
        "outputId": "d8b365e1-5349-47c1-88be-e07eaa4ff28b"
      },
      "execution_count": null,
      "outputs": [
        {
          "output_type": "execute_result",
          "data": {
            "text/plain": [
              "bool"
            ]
          },
          "metadata": {},
          "execution_count": 5
        }
      ]
    },
    {
      "cell_type": "markdown",
      "source": [
        "True = 1 and False = 0\n",
        "True or False first letter should be capital"
      ],
      "metadata": {
        "id": "81BUZ_dfKplw"
      }
    },
    {
      "cell_type": "code",
      "source": [
        "f = 7+5j"
      ],
      "metadata": {
        "id": "csBbjQdqKhtC"
      },
      "execution_count": null,
      "outputs": []
    },
    {
      "cell_type": "code",
      "source": [
        "type(f)"
      ],
      "metadata": {
        "colab": {
          "base_uri": "https://localhost:8080/"
        },
        "id": "koO5JQhqLB29",
        "outputId": "72f8d22b-2841-42f9-c5bd-1e73daea371d"
      },
      "execution_count": null,
      "outputs": [
        {
          "output_type": "execute_result",
          "data": {
            "text/plain": [
              "complex"
            ]
          },
          "metadata": {},
          "execution_count": 7
        }
      ]
    },
    {
      "cell_type": "code",
      "source": [
        "f.real"
      ],
      "metadata": {
        "colab": {
          "base_uri": "https://localhost:8080/"
        },
        "id": "1pVD3jBqLDXb",
        "outputId": "ca001f61-7fd0-4035-ff67-2935cecdabdd"
      },
      "execution_count": null,
      "outputs": [
        {
          "output_type": "execute_result",
          "data": {
            "text/plain": [
              "7.0"
            ]
          },
          "metadata": {},
          "execution_count": 8
        }
      ]
    },
    {
      "cell_type": "code",
      "source": [
        "f.imag"
      ],
      "metadata": {
        "colab": {
          "base_uri": "https://localhost:8080/"
        },
        "id": "I6toCvVOLHRz",
        "outputId": "194a6710-00d0-46b7-c8ce-558e6f8318e5"
      },
      "execution_count": null,
      "outputs": [
        {
          "output_type": "execute_result",
          "data": {
            "text/plain": [
              "5.0"
            ]
          },
          "metadata": {},
          "execution_count": 10
        }
      ]
    },
    {
      "cell_type": "markdown",
      "source": [
        "Variable name can't be numeric and alphanumeric"
      ],
      "metadata": {
        "id": "bO7LCGc7LYkS"
      }
    },
    {
      "cell_type": "code",
      "source": [
        "# everything written is comment for python"
      ],
      "metadata": {
        "id": "o7pmLQPQLK2U"
      },
      "execution_count": null,
      "outputs": []
    },
    {
      "cell_type": "code",
      "source": [
        "\"\"\" everything written is comment for python \"\"\""
      ],
      "metadata": {
        "colab": {
          "base_uri": "https://localhost:8080/",
          "height": 35
        },
        "id": "TwmbxkbTLrUZ",
        "outputId": "049c14f8-5cf5-4f35-bd6c-6690b9d71ce2"
      },
      "execution_count": null,
      "outputs": [
        {
          "output_type": "execute_result",
          "data": {
            "text/plain": [
              "' everything written is comment for python '"
            ],
            "application/vnd.google.colaboratory.intrinsic+json": {
              "type": "string"
            }
          },
          "metadata": {},
          "execution_count": 14
        }
      ]
    },
    {
      "cell_type": "markdown",
      "source": [
        "MUTABLE AND IMMUTABLE REVISION = 2"
      ],
      "metadata": {
        "id": "Wy7W4sKSMfC3"
      }
    },
    {
      "cell_type": "code",
      "source": [
        "l = [2,3,4,5,6,35.42,True,3+4j,\"raj\"]"
      ],
      "metadata": {
        "id": "-l2J6qdfLz3C"
      },
      "execution_count": null,
      "outputs": []
    },
    {
      "cell_type": "code",
      "source": [
        "type(l)"
      ],
      "metadata": {
        "colab": {
          "base_uri": "https://localhost:8080/"
        },
        "id": "lzIGPDGTM5LI",
        "outputId": "9b9e77f5-93ce-4e47-87a6-75b20c26ca9d"
      },
      "execution_count": null,
      "outputs": [
        {
          "output_type": "execute_result",
          "data": {
            "text/plain": [
              "list"
            ]
          },
          "metadata": {},
          "execution_count": 17
        }
      ]
    },
    {
      "cell_type": "code",
      "source": [
        "l[0]"
      ],
      "metadata": {
        "colab": {
          "base_uri": "https://localhost:8080/"
        },
        "id": "gkaYuX-cM9S-",
        "outputId": "92d3aa9a-b8b6-405f-b876-0333cc3bc475"
      },
      "execution_count": null,
      "outputs": [
        {
          "output_type": "execute_result",
          "data": {
            "text/plain": [
              "2"
            ]
          },
          "metadata": {},
          "execution_count": 18
        }
      ]
    },
    {
      "cell_type": "code",
      "source": [
        "l[5]"
      ],
      "metadata": {
        "colab": {
          "base_uri": "https://localhost:8080/"
        },
        "id": "S3jGI5jSNBHy",
        "outputId": "501a793b-536d-4ba4-d927-12a43c9202f8"
      },
      "execution_count": null,
      "outputs": [
        {
          "output_type": "execute_result",
          "data": {
            "text/plain": [
              "35.42"
            ]
          },
          "metadata": {},
          "execution_count": 19
        }
      ]
    },
    {
      "cell_type": "code",
      "source": [
        "l[6]"
      ],
      "metadata": {
        "colab": {
          "base_uri": "https://localhost:8080/"
        },
        "id": "-LAxKKLhNDvA",
        "outputId": "ecee83d9-763a-41b0-db48-db711f53c8d3"
      },
      "execution_count": null,
      "outputs": [
        {
          "output_type": "execute_result",
          "data": {
            "text/plain": [
              "True"
            ]
          },
          "metadata": {},
          "execution_count": 20
        }
      ]
    },
    {
      "cell_type": "code",
      "source": [
        "l[-1]"
      ],
      "metadata": {
        "colab": {
          "base_uri": "https://localhost:8080/",
          "height": 35
        },
        "id": "L3Eyl4IwQitc",
        "outputId": "ae8b5c41-b4aa-40d1-9c46-78b52d94ac2a"
      },
      "execution_count": null,
      "outputs": [
        {
          "output_type": "execute_result",
          "data": {
            "text/plain": [
              "'raj'"
            ],
            "application/vnd.google.colaboratory.intrinsic+json": {
              "type": "string"
            }
          },
          "metadata": {},
          "execution_count": 25
        }
      ]
    },
    {
      "cell_type": "code",
      "source": [
        "l[-3]"
      ],
      "metadata": {
        "colab": {
          "base_uri": "https://localhost:8080/"
        },
        "id": "c6qXTyWJQoH3",
        "outputId": "1d895591-3735-42fd-8d58-fb09fe02910c"
      },
      "execution_count": null,
      "outputs": [
        {
          "output_type": "execute_result",
          "data": {
            "text/plain": [
              "True"
            ]
          },
          "metadata": {},
          "execution_count": 26
        }
      ]
    },
    {
      "cell_type": "markdown",
      "source": [
        "## Indexing in a range out of total element in a list"
      ],
      "metadata": {
        "id": "cCPpV2Q2Qu9n"
      }
    },
    {
      "cell_type": "code",
      "source": [
        "l[0:8]"
      ],
      "metadata": {
        "colab": {
          "base_uri": "https://localhost:8080/"
        },
        "id": "234y-Gc6Q5zY",
        "outputId": "61ec8d96-b547-411c-a08d-0a5d87a0e5c6"
      },
      "execution_count": null,
      "outputs": [
        {
          "output_type": "execute_result",
          "data": {
            "text/plain": [
              "[2, 3, 4, 5, 6, 35.42, True, (3+4j)]"
            ]
          },
          "metadata": {},
          "execution_count": 27
        }
      ]
    },
    {
      "cell_type": "code",
      "source": [
        "l[0:9]"
      ],
      "metadata": {
        "colab": {
          "base_uri": "https://localhost:8080/"
        },
        "id": "ujqmWyy3RBeG",
        "outputId": "d87ada41-ab61-4b06-bcec-6d60b4aeb95f"
      },
      "execution_count": null,
      "outputs": [
        {
          "output_type": "execute_result",
          "data": {
            "text/plain": [
              "[2, 3, 4, 5, 6, 35.42, True, (3+4j), 'raj']"
            ]
          },
          "metadata": {},
          "execution_count": 28
        }
      ]
    },
    {
      "cell_type": "markdown",
      "source": [
        "## When indexing or slicing in a range then provide one less data then upper limit"
      ],
      "metadata": {
        "id": "6hGOl8HZRJnI"
      }
    },
    {
      "cell_type": "markdown",
      "source": [
        "# Slicing\n",
        "Slicing provide one less data then upper band"
      ],
      "metadata": {
        "id": "uZ4PnOGYPehL"
      }
    },
    {
      "cell_type": "code",
      "source": [
        "l[0:9:2]"
      ],
      "metadata": {
        "colab": {
          "base_uri": "https://localhost:8080/"
        },
        "id": "V75NQLXXNO5Q",
        "outputId": "558baf07-6765-4b23-b5f9-32b004b6f28e"
      },
      "execution_count": null,
      "outputs": [
        {
          "output_type": "execute_result",
          "data": {
            "text/plain": [
              "[2, 4, 6, True, 'raj']"
            ]
          },
          "metadata": {},
          "execution_count": 24
        }
      ]
    },
    {
      "cell_type": "markdown",
      "source": [
        "Take element out of list with a jump of one when provided 2."
      ],
      "metadata": {
        "id": "Aq9ExRk1QCmi"
      }
    },
    {
      "cell_type": "code",
      "source": [
        "l[::2]"
      ],
      "metadata": {
        "colab": {
          "base_uri": "https://localhost:8080/"
        },
        "id": "-rGqHyDwP9QP",
        "outputId": "e385f7e5-be4a-4774-d0ae-4ecb0f3d5bf0"
      },
      "execution_count": null,
      "outputs": [
        {
          "output_type": "execute_result",
          "data": {
            "text/plain": [
              "[2, 4, 6, True, 'raj']"
            ]
          },
          "metadata": {},
          "execution_count": 29
        }
      ]
    },
    {
      "cell_type": "code",
      "source": [
        "l[::]"
      ],
      "metadata": {
        "colab": {
          "base_uri": "https://localhost:8080/"
        },
        "id": "Xd-Z0GLRRXvN",
        "outputId": "b0d742b3-2969-429d-f65a-9244c054a386"
      },
      "execution_count": null,
      "outputs": [
        {
          "output_type": "execute_result",
          "data": {
            "text/plain": [
              "[2, 3, 4, 5, 6, 35.42, True, (3+4j), 'raj']"
            ]
          },
          "metadata": {},
          "execution_count": 30
        }
      ]
    },
    {
      "cell_type": "code",
      "source": [
        "l[:9:2]"
      ],
      "metadata": {
        "colab": {
          "base_uri": "https://localhost:8080/"
        },
        "id": "E_2dj_ieRb2J",
        "outputId": "607b8445-a582-4d67-e498-f1b755a31ce5"
      },
      "execution_count": null,
      "outputs": [
        {
          "output_type": "execute_result",
          "data": {
            "text/plain": [
              "[2, 4, 6, True, 'raj']"
            ]
          },
          "metadata": {},
          "execution_count": 31
        }
      ]
    },
    {
      "cell_type": "code",
      "source": [
        "l[::-1]"
      ],
      "metadata": {
        "colab": {
          "base_uri": "https://localhost:8080/"
        },
        "id": "-cv2FhKbRiex",
        "outputId": "70198dca-ea87-411b-e771-493e48bcd56c"
      },
      "execution_count": null,
      "outputs": [
        {
          "output_type": "execute_result",
          "data": {
            "text/plain": [
              "['raj', (3+4j), True, 35.42, 6, 5, 4, 3, 2]"
            ]
          },
          "metadata": {},
          "execution_count": 32
        }
      ]
    },
    {
      "cell_type": "code",
      "source": [
        "l[-1]"
      ],
      "metadata": {
        "colab": {
          "base_uri": "https://localhost:8080/",
          "height": 35
        },
        "id": "_hVU6cePRmgf",
        "outputId": "5565da71-55fe-499e-891f-1a236754e2ff"
      },
      "execution_count": null,
      "outputs": [
        {
          "output_type": "execute_result",
          "data": {
            "text/plain": [
              "'raj'"
            ],
            "application/vnd.google.colaboratory.intrinsic+json": {
              "type": "string"
            }
          },
          "metadata": {},
          "execution_count": 33
        }
      ]
    },
    {
      "cell_type": "markdown",
      "source": [
        "# Difference btw Indexing and Slicing\n",
        "In indexing if index is out of range it show error while in slicing if index is out of range then also no error"
      ],
      "metadata": {
        "id": "lha15ySMSOWm"
      }
    },
    {
      "cell_type": "code",
      "source": [
        "l[90]"
      ],
      "metadata": {
        "colab": {
          "base_uri": "https://localhost:8080/",
          "height": 204
        },
        "id": "x63RumnsRq3b",
        "outputId": "fc5d7c01-d725-462d-97a3-98f618f73506"
      },
      "execution_count": null,
      "outputs": [
        {
          "output_type": "error",
          "ename": "IndexError",
          "evalue": "ignored",
          "traceback": [
            "\u001b[0;31m---------------------------------------------------------------------------\u001b[0m",
            "\u001b[0;31mIndexError\u001b[0m                                Traceback (most recent call last)",
            "\u001b[0;32m<ipython-input-34-d1279369aa12>\u001b[0m in \u001b[0;36m<cell line: 1>\u001b[0;34m()\u001b[0m\n\u001b[0;32m----> 1\u001b[0;31m \u001b[0ml\u001b[0m\u001b[0;34m[\u001b[0m\u001b[0;36m90\u001b[0m\u001b[0;34m]\u001b[0m\u001b[0;34m\u001b[0m\u001b[0;34m\u001b[0m\u001b[0m\n\u001b[0m",
            "\u001b[0;31mIndexError\u001b[0m: list index out of range"
          ]
        }
      ]
    },
    {
      "cell_type": "code",
      "source": [
        "l[:-90:-1]"
      ],
      "metadata": {
        "colab": {
          "base_uri": "https://localhost:8080/"
        },
        "id": "x2rX03BiSnKB",
        "outputId": "1bd2a138-5cee-4788-acd2-affce62fd28c"
      },
      "execution_count": null,
      "outputs": [
        {
          "output_type": "execute_result",
          "data": {
            "text/plain": [
              "['raj', (3+4j), True, 35.42, 6, 5, 4, 3, 2]"
            ]
          },
          "metadata": {},
          "execution_count": 35
        }
      ]
    },
    {
      "cell_type": "markdown",
      "source": [
        "Replacing data in the list with the help of indexing"
      ],
      "metadata": {
        "id": "HRYyK6eHSuZk"
      }
    },
    {
      "cell_type": "code",
      "source": [
        "l[0] = 30"
      ],
      "metadata": {
        "id": "i4_hzmRISqQ7"
      },
      "execution_count": null,
      "outputs": []
    },
    {
      "cell_type": "code",
      "source": [
        "l"
      ],
      "metadata": {
        "colab": {
          "base_uri": "https://localhost:8080/"
        },
        "id": "MGua3AvVS7hj",
        "outputId": "f075dd90-46d8-42ec-eb1c-f90c114f4d19"
      },
      "execution_count": null,
      "outputs": [
        {
          "output_type": "execute_result",
          "data": {
            "text/plain": [
              "[30, 3, 4, 5, 6, 35.42, True, (3+4j), 'raj']"
            ]
          },
          "metadata": {},
          "execution_count": 37
        }
      ]
    },
    {
      "cell_type": "markdown",
      "source": [
        "Reassign data in string"
      ],
      "metadata": {
        "id": "umJfjch5S_55"
      }
    },
    {
      "cell_type": "code",
      "source": [
        "s = \"sudh\""
      ],
      "metadata": {
        "id": "bBMl7NM3S8bI"
      },
      "execution_count": null,
      "outputs": []
    },
    {
      "cell_type": "code",
      "source": [
        "s[0] = a"
      ],
      "metadata": {
        "colab": {
          "base_uri": "https://localhost:8080/",
          "height": 204
        },
        "id": "rUd5ByPTTJ0V",
        "outputId": "05b5d8e8-ac59-4185-8453-d185a97d7d63"
      },
      "execution_count": null,
      "outputs": [
        {
          "output_type": "error",
          "ename": "TypeError",
          "evalue": "ignored",
          "traceback": [
            "\u001b[0;31m---------------------------------------------------------------------------\u001b[0m",
            "\u001b[0;31mTypeError\u001b[0m                                 Traceback (most recent call last)",
            "\u001b[0;32m<ipython-input-39-95c475083620>\u001b[0m in \u001b[0;36m<cell line: 1>\u001b[0;34m()\u001b[0m\n\u001b[0;32m----> 1\u001b[0;31m \u001b[0ms\u001b[0m\u001b[0;34m[\u001b[0m\u001b[0;36m0\u001b[0m\u001b[0;34m]\u001b[0m \u001b[0;34m=\u001b[0m \u001b[0ma\u001b[0m\u001b[0;34m\u001b[0m\u001b[0;34m\u001b[0m\u001b[0m\n\u001b[0m",
            "\u001b[0;31mTypeError\u001b[0m: 'str' object does not support item assignment"
          ]
        }
      ]
    },
    {
      "cell_type": "markdown",
      "source": [
        "## Since list support reassignent so it is mutable and string doesn't so it's immutable"
      ],
      "metadata": {
        "id": "Ng627leoTXuj"
      }
    },
    {
      "cell_type": "markdown",
      "source": [
        "# Operator Revision"
      ],
      "metadata": {
        "id": "c30xAIrJUSOB"
      }
    },
    {
      "cell_type": "code",
      "source": [
        "5%2"
      ],
      "metadata": {
        "colab": {
          "base_uri": "https://localhost:8080/"
        },
        "id": "lWlBpH-dTMal",
        "outputId": "acf80092-3556-4e8e-b214-6b02e6bc9970"
      },
      "execution_count": null,
      "outputs": [
        {
          "output_type": "execute_result",
          "data": {
            "text/plain": [
              "1"
            ]
          },
          "metadata": {},
          "execution_count": 40
        }
      ]
    },
    {
      "cell_type": "markdown",
      "source": [
        "Modulu operator return remainder on division"
      ],
      "metadata": {
        "id": "CJE43AZJUeKW"
      }
    },
    {
      "cell_type": "code",
      "source": [
        "1/2"
      ],
      "metadata": {
        "colab": {
          "base_uri": "https://localhost:8080/"
        },
        "id": "5hvfYYU-UbWL",
        "outputId": "d8cfb1fd-f4f4-4438-cd15-a7253b5509fc"
      },
      "execution_count": null,
      "outputs": [
        {
          "output_type": "execute_result",
          "data": {
            "text/plain": [
              "0.5"
            ]
          },
          "metadata": {},
          "execution_count": 41
        }
      ]
    },
    {
      "cell_type": "code",
      "source": [
        "7//2"
      ],
      "metadata": {
        "colab": {
          "base_uri": "https://localhost:8080/"
        },
        "id": "59AP6HGLUmm8",
        "outputId": "75c0ff3f-222d-43b6-d0dd-ed13f9d3ee9b"
      },
      "execution_count": null,
      "outputs": [
        {
          "output_type": "execute_result",
          "data": {
            "text/plain": [
              "3"
            ]
          },
          "metadata": {},
          "execution_count": 43
        }
      ]
    },
    {
      "cell_type": "markdown",
      "source": [
        "Floor division divide the number then roundoff it"
      ],
      "metadata": {
        "id": "d7rAQQLpU0nU"
      }
    },
    {
      "cell_type": "code",
      "source": [
        "a = 2**3"
      ],
      "metadata": {
        "id": "6n2RhE3AUpVl"
      },
      "execution_count": null,
      "outputs": []
    },
    {
      "cell_type": "code",
      "source": [
        "a"
      ],
      "metadata": {
        "colab": {
          "base_uri": "https://localhost:8080/"
        },
        "id": "3WMKeD4UXPAk",
        "outputId": "ae17eadf-14e4-46bd-b125-f76c47b67dc1"
      },
      "execution_count": null,
      "outputs": [
        {
          "output_type": "execute_result",
          "data": {
            "text/plain": [
              "8"
            ]
          },
          "metadata": {},
          "execution_count": 45
        }
      ]
    },
    {
      "cell_type": "code",
      "source": [
        "1 != 2"
      ],
      "metadata": {
        "colab": {
          "base_uri": "https://localhost:8080/"
        },
        "id": "qHzfL9rmXQGQ",
        "outputId": "ebc0da67-6fa9-4418-a35c-71f2583ec9f4"
      },
      "execution_count": null,
      "outputs": [
        {
          "output_type": "execute_result",
          "data": {
            "text/plain": [
              "True"
            ]
          },
          "metadata": {},
          "execution_count": 46
        }
      ]
    },
    {
      "cell_type": "markdown",
      "source": [
        "# Logical Operator\n",
        "1. In AND condition there is one case when both are true then true rest all flase\n",
        "2. In OR condition there is only one condition when both are false then False rest all true"
      ],
      "metadata": {
        "id": "g72CMiokX3Jt"
      }
    },
    {
      "cell_type": "markdown",
      "source": [
        "# Bitwise Operator\n",
        "Bitwise operator first convert into binary then perform action"
      ],
      "metadata": {
        "id": "-mRQsqAfKrf2"
      }
    },
    {
      "cell_type": "code",
      "source": [
        "bin(10)"
      ],
      "metadata": {
        "id": "sxx390XYXWRA",
        "colab": {
          "base_uri": "https://localhost:8080/",
          "height": 35
        },
        "outputId": "2c9cd918-634c-4071-de86-bbb16561ddde"
      },
      "execution_count": null,
      "outputs": [
        {
          "output_type": "execute_result",
          "data": {
            "text/plain": [
              "'0b1010'"
            ],
            "application/vnd.google.colaboratory.intrinsic+json": {
              "type": "string"
            }
          },
          "metadata": {},
          "execution_count": 1
        }
      ]
    },
    {
      "cell_type": "code",
      "source": [
        "10 & 4"
      ],
      "metadata": {
        "colab": {
          "base_uri": "https://localhost:8080/"
        },
        "id": "eH5WTkAPLQvP",
        "outputId": "93ad7c65-40eb-4550-e7e8-5a818a09fb9d"
      },
      "execution_count": null,
      "outputs": [
        {
          "output_type": "execute_result",
          "data": {
            "text/plain": [
              "0"
            ]
          },
          "metadata": {},
          "execution_count": 2
        }
      ]
    },
    {
      "cell_type": "code",
      "source": [
        "bin(4)"
      ],
      "metadata": {
        "colab": {
          "base_uri": "https://localhost:8080/",
          "height": 35
        },
        "id": "F2gWDojcLU0U",
        "outputId": "2fd7e980-7d51-47a8-bb62-1442c7058643"
      },
      "execution_count": null,
      "outputs": [
        {
          "output_type": "execute_result",
          "data": {
            "text/plain": [
              "'0b100'"
            ],
            "application/vnd.google.colaboratory.intrinsic+json": {
              "type": "string"
            }
          },
          "metadata": {},
          "execution_count": 3
        }
      ]
    },
    {
      "cell_type": "code",
      "source": [
        "bin(0)"
      ],
      "metadata": {
        "colab": {
          "base_uri": "https://localhost:8080/",
          "height": 35
        },
        "id": "4I_j0YJLLY-e",
        "outputId": "0a4ea69a-5de1-45ed-e1ac-9ab08b0e5ab2"
      },
      "execution_count": null,
      "outputs": [
        {
          "output_type": "execute_result",
          "data": {
            "text/plain": [
              "'0b0'"
            ],
            "application/vnd.google.colaboratory.intrinsic+json": {
              "type": "string"
            }
          },
          "metadata": {},
          "execution_count": 4
        }
      ]
    },
    {
      "cell_type": "code",
      "source": [
        "bin(1)"
      ],
      "metadata": {
        "colab": {
          "base_uri": "https://localhost:8080/",
          "height": 35
        },
        "id": "BQL-37FqLiKq",
        "outputId": "28bcaf75-c4b2-465d-9776-a36bc638e634"
      },
      "execution_count": null,
      "outputs": [
        {
          "output_type": "execute_result",
          "data": {
            "text/plain": [
              "'0b1'"
            ],
            "application/vnd.google.colaboratory.intrinsic+json": {
              "type": "string"
            }
          },
          "metadata": {},
          "execution_count": 5
        }
      ]
    },
    {
      "cell_type": "markdown",
      "source": [
        "## Converting bit into intezer"
      ],
      "metadata": {
        "id": "7vRM8J_tP9SI"
      }
    },
    {
      "cell_type": "code",
      "source": [
        "0b100"
      ],
      "metadata": {
        "colab": {
          "base_uri": "https://localhost:8080/"
        },
        "id": "zAd17qpFPmFw",
        "outputId": "b0bb9e41-30a1-4c66-ff63-831aa10d35bb"
      },
      "execution_count": null,
      "outputs": [
        {
          "output_type": "execute_result",
          "data": {
            "text/plain": [
              "4"
            ]
          },
          "metadata": {},
          "execution_count": 8
        }
      ]
    },
    {
      "cell_type": "markdown",
      "source": [
        "# String Revision"
      ],
      "metadata": {
        "id": "08VxX3AlcXHq"
      }
    },
    {
      "cell_type": "code",
      "source": [
        "s1 = \"This is my first string\""
      ],
      "metadata": {
        "id": "UpEJx3MtclnC"
      },
      "execution_count": null,
      "outputs": []
    },
    {
      "cell_type": "code",
      "source": [
        "len(s1)"
      ],
      "metadata": {
        "colab": {
          "base_uri": "https://localhost:8080/"
        },
        "id": "mTt2ZGhtcswJ",
        "outputId": "53e15aa3-a2c5-4dab-cf41-5842cb11d60a"
      },
      "execution_count": null,
      "outputs": [
        {
          "output_type": "execute_result",
          "data": {
            "text/plain": [
              "23"
            ]
          },
          "metadata": {},
          "execution_count": 11
        }
      ]
    },
    {
      "cell_type": "code",
      "source": [
        "s1[0]"
      ],
      "metadata": {
        "colab": {
          "base_uri": "https://localhost:8080/",
          "height": 35
        },
        "id": "DQpskJF6cvJg",
        "outputId": "f01f5893-0a46-4955-a86c-7e56b024a9fd"
      },
      "execution_count": null,
      "outputs": [
        {
          "output_type": "execute_result",
          "data": {
            "text/plain": [
              "'T'"
            ],
            "application/vnd.google.colaboratory.intrinsic+json": {
              "type": "string"
            }
          },
          "metadata": {},
          "execution_count": 12
        }
      ]
    },
    {
      "cell_type": "code",
      "source": [
        "s1[4]"
      ],
      "metadata": {
        "colab": {
          "base_uri": "https://localhost:8080/",
          "height": 35
        },
        "id": "nUVrZn5qczHs",
        "outputId": "66ed7fdf-70e0-44ac-d24d-fa35546c5912"
      },
      "execution_count": null,
      "outputs": [
        {
          "output_type": "execute_result",
          "data": {
            "text/plain": [
              "' '"
            ],
            "application/vnd.google.colaboratory.intrinsic+json": {
              "type": "string"
            }
          },
          "metadata": {},
          "execution_count": 13
        }
      ]
    },
    {
      "cell_type": "code",
      "source": [
        "s1.find(\"s\")"
      ],
      "metadata": {
        "colab": {
          "base_uri": "https://localhost:8080/"
        },
        "id": "FwXE8BiodLjs",
        "outputId": "cd7b5427-c042-4c19-f8d6-0d41087cf9b3"
      },
      "execution_count": null,
      "outputs": [
        {
          "output_type": "execute_result",
          "data": {
            "text/plain": [
              "3"
            ]
          },
          "metadata": {},
          "execution_count": 14
        }
      ]
    },
    {
      "cell_type": "code",
      "source": [
        "s1.find(\"S\")"
      ],
      "metadata": {
        "colab": {
          "base_uri": "https://localhost:8080/"
        },
        "id": "11dSy077dUQh",
        "outputId": "770419fa-7eb6-401d-e562-af1dbdc0f557"
      },
      "execution_count": null,
      "outputs": [
        {
          "output_type": "execute_result",
          "data": {
            "text/plain": [
              "-1"
            ]
          },
          "metadata": {},
          "execution_count": 15
        }
      ]
    },
    {
      "cell_type": "markdown",
      "source": [
        "### Whenever find is not able to find index of something it return (-1)"
      ],
      "metadata": {
        "id": "2I8SyDN9dl6X"
      }
    },
    {
      "cell_type": "code",
      "source": [
        "s1.count(\"s\")"
      ],
      "metadata": {
        "colab": {
          "base_uri": "https://localhost:8080/"
        },
        "id": "XlYhzh7qdj9o",
        "outputId": "5394ec4f-33b6-47ff-e56c-1a05c2eb6aaa"
      },
      "execution_count": null,
      "outputs": [
        {
          "output_type": "execute_result",
          "data": {
            "text/plain": [
              "4"
            ]
          },
          "metadata": {},
          "execution_count": 17
        }
      ]
    },
    {
      "cell_type": "code",
      "source": [
        "s1.upper()"
      ],
      "metadata": {
        "colab": {
          "base_uri": "https://localhost:8080/",
          "height": 35
        },
        "id": "qNSlxdGad4wH",
        "outputId": "3c1cc3f0-08ed-46d9-a0f2-18b7e9eb9b87"
      },
      "execution_count": null,
      "outputs": [
        {
          "output_type": "execute_result",
          "data": {
            "text/plain": [
              "'THIS IS MY FIRST STRING'"
            ],
            "application/vnd.google.colaboratory.intrinsic+json": {
              "type": "string"
            }
          },
          "metadata": {},
          "execution_count": 18
        }
      ]
    },
    {
      "cell_type": "code",
      "source": [
        "s1"
      ],
      "metadata": {
        "colab": {
          "base_uri": "https://localhost:8080/",
          "height": 35
        },
        "id": "sNJdcXoseL1Y",
        "outputId": "32114acf-4529-425c-8d95-dd17847a8c73"
      },
      "execution_count": null,
      "outputs": [
        {
          "output_type": "execute_result",
          "data": {
            "text/plain": [
              "'This is my first string'"
            ],
            "application/vnd.google.colaboratory.intrinsic+json": {
              "type": "string"
            }
          },
          "metadata": {},
          "execution_count": 19
        }
      ]
    },
    {
      "cell_type": "code",
      "source": [
        "s1.lower()"
      ],
      "metadata": {
        "colab": {
          "base_uri": "https://localhost:8080/",
          "height": 35
        },
        "id": "JAtVBGzXeNkN",
        "outputId": "5d10a71c-fbbb-4856-e228-60e67914d597"
      },
      "execution_count": null,
      "outputs": [
        {
          "output_type": "execute_result",
          "data": {
            "text/plain": [
              "'this is my first string'"
            ],
            "application/vnd.google.colaboratory.intrinsic+json": {
              "type": "string"
            }
          },
          "metadata": {},
          "execution_count": 21
        }
      ]
    },
    {
      "cell_type": "code",
      "source": [
        "s1.title()"
      ],
      "metadata": {
        "colab": {
          "base_uri": "https://localhost:8080/",
          "height": 35
        },
        "id": "Fy0mhBHteQoR",
        "outputId": "419a9655-50d7-4fc4-e5b3-ba9c1b07cf55"
      },
      "execution_count": null,
      "outputs": [
        {
          "output_type": "execute_result",
          "data": {
            "text/plain": [
              "'This Is My First String'"
            ],
            "application/vnd.google.colaboratory.intrinsic+json": {
              "type": "string"
            }
          },
          "metadata": {},
          "execution_count": 22
        }
      ]
    },
    {
      "cell_type": "code",
      "source": [
        "s1.capitalize()"
      ],
      "metadata": {
        "colab": {
          "base_uri": "https://localhost:8080/",
          "height": 35
        },
        "id": "gJ6KkNTZeX2_",
        "outputId": "7f7068e9-4016-4618-eea9-50fb9fe3cc16"
      },
      "execution_count": null,
      "outputs": [
        {
          "output_type": "execute_result",
          "data": {
            "text/plain": [
              "'This is my first string'"
            ],
            "application/vnd.google.colaboratory.intrinsic+json": {
              "type": "string"
            }
          },
          "metadata": {},
          "execution_count": 23
        }
      ]
    },
    {
      "cell_type": "code",
      "source": [
        "s1.split()"
      ],
      "metadata": {
        "colab": {
          "base_uri": "https://localhost:8080/"
        },
        "id": "-_OwB4F6ecQj",
        "outputId": "2b612d14-530b-4982-edbc-97c2e86d39b0"
      },
      "execution_count": null,
      "outputs": [
        {
          "output_type": "execute_result",
          "data": {
            "text/plain": [
              "['This', 'is', 'my', 'first', 'string']"
            ]
          },
          "metadata": {},
          "execution_count": 24
        }
      ]
    },
    {
      "cell_type": "code",
      "source": [
        "s1 + 1"
      ],
      "metadata": {
        "colab": {
          "base_uri": "https://localhost:8080/",
          "height": 204
        },
        "id": "du5aeKEIfJh6",
        "outputId": "9284b2d9-b2d1-4e65-ba16-7003259f957f"
      },
      "execution_count": null,
      "outputs": [
        {
          "output_type": "error",
          "ename": "TypeError",
          "evalue": "ignored",
          "traceback": [
            "\u001b[0;31m---------------------------------------------------------------------------\u001b[0m",
            "\u001b[0;31mTypeError\u001b[0m                                 Traceback (most recent call last)",
            "\u001b[0;32m<ipython-input-25-ca655f9d709f>\u001b[0m in \u001b[0;36m<cell line: 1>\u001b[0;34m()\u001b[0m\n\u001b[0;32m----> 1\u001b[0;31m \u001b[0ms1\u001b[0m \u001b[0;34m+\u001b[0m \u001b[0;36m1\u001b[0m\u001b[0;34m\u001b[0m\u001b[0;34m\u001b[0m\u001b[0m\n\u001b[0m",
            "\u001b[0;31mTypeError\u001b[0m: can only concatenate str (not \"int\") to str"
          ]
        }
      ]
    },
    {
      "cell_type": "markdown",
      "source": [
        "### Concatenation take place between same data type"
      ],
      "metadata": {
        "id": "NxWkIG8ofTtw"
      }
    },
    {
      "cell_type": "code",
      "source": [
        "s1 + '1'"
      ],
      "metadata": {
        "colab": {
          "base_uri": "https://localhost:8080/",
          "height": 35
        },
        "id": "CH1G7V5TfOxk",
        "outputId": "1161b5ab-4f40-4741-b914-4902c0827313"
      },
      "execution_count": null,
      "outputs": [
        {
          "output_type": "execute_result",
          "data": {
            "text/plain": [
              "'This is my first string1'"
            ],
            "application/vnd.google.colaboratory.intrinsic+json": {
              "type": "string"
            }
          },
          "metadata": {},
          "execution_count": 26
        }
      ]
    },
    {
      "cell_type": "code",
      "source": [
        "s1 * 3"
      ],
      "metadata": {
        "colab": {
          "base_uri": "https://localhost:8080/",
          "height": 35
        },
        "id": "XVgLVptqfn6M",
        "outputId": "ff290a09-2110-4106-f1aa-1bc25e32019d"
      },
      "execution_count": null,
      "outputs": [
        {
          "output_type": "execute_result",
          "data": {
            "text/plain": [
              "'This is my first stringThis is my first stringThis is my first string'"
            ],
            "application/vnd.google.colaboratory.intrinsic+json": {
              "type": "string"
            }
          },
          "metadata": {},
          "execution_count": 27
        }
      ]
    },
    {
      "cell_type": "code",
      "source": [
        "s1 + str(1)"
      ],
      "metadata": {
        "colab": {
          "base_uri": "https://localhost:8080/",
          "height": 35
        },
        "id": "NGqVfs7pfsgX",
        "outputId": "57922bff-33b8-4642-e17d-6428f1e97ab6"
      },
      "execution_count": null,
      "outputs": [
        {
          "output_type": "execute_result",
          "data": {
            "text/plain": [
              "'This is my first string1'"
            ],
            "application/vnd.google.colaboratory.intrinsic+json": {
              "type": "string"
            }
          },
          "metadata": {},
          "execution_count": 28
        }
      ]
    },
    {
      "cell_type": "markdown",
      "source": [
        "# List, Tuples, Set Revision"
      ],
      "metadata": {
        "id": "DZJZx0bMgHx2"
      }
    },
    {
      "cell_type": "code",
      "source": [
        "l = [2,345,45,\"raj\",5+7j, 35.42, True]"
      ],
      "metadata": {
        "id": "cNGhTyevfzoq"
      },
      "execution_count": null,
      "outputs": []
    },
    {
      "cell_type": "code",
      "source": [
        "type(l)"
      ],
      "metadata": {
        "colab": {
          "base_uri": "https://localhost:8080/"
        },
        "id": "41fzqBwNgX0z",
        "outputId": "6b2823bf-8c16-419b-92fb-de2872a889d5"
      },
      "execution_count": null,
      "outputs": [
        {
          "output_type": "execute_result",
          "data": {
            "text/plain": [
              "list"
            ]
          },
          "metadata": {},
          "execution_count": 30
        }
      ]
    },
    {
      "cell_type": "code",
      "source": [
        "l[0:7]"
      ],
      "metadata": {
        "colab": {
          "base_uri": "https://localhost:8080/"
        },
        "id": "zYPY8W_LgsXl",
        "outputId": "ee352824-866e-4eac-b620-c1e78f7b265f"
      },
      "execution_count": null,
      "outputs": [
        {
          "output_type": "execute_result",
          "data": {
            "text/plain": [
              "[2, 345, 45, 'raj', (5+7j), 35.42, True]"
            ]
          },
          "metadata": {},
          "execution_count": 31
        }
      ]
    },
    {
      "cell_type": "code",
      "source": [
        "s = \"pwskills\""
      ],
      "metadata": {
        "id": "goTUpVJEgxIR"
      },
      "execution_count": null,
      "outputs": []
    },
    {
      "cell_type": "code",
      "source": [
        "list(s)"
      ],
      "metadata": {
        "id": "GyrwSkzMg6cy",
        "outputId": "ec92f6ae-e93f-43da-c0f2-70bd678c69cb",
        "colab": {
          "base_uri": "https://localhost:8080/"
        }
      },
      "execution_count": null,
      "outputs": [
        {
          "output_type": "execute_result",
          "data": {
            "text/plain": [
              "['p', 'w', 's', 'k', 'i', 'l', 'l', 's']"
            ]
          },
          "metadata": {},
          "execution_count": 33
        }
      ]
    },
    {
      "cell_type": "code",
      "source": [
        "list(s) + l"
      ],
      "metadata": {
        "id": "GmDkIZdtg82k",
        "colab": {
          "base_uri": "https://localhost:8080/"
        },
        "outputId": "a3b5f909-08db-4538-c3d4-7eb1ed33b6c7"
      },
      "execution_count": null,
      "outputs": [
        {
          "output_type": "execute_result",
          "data": {
            "text/plain": [
              "['p',\n",
              " 'w',\n",
              " 's',\n",
              " 'k',\n",
              " 'i',\n",
              " 'l',\n",
              " 'l',\n",
              " 's',\n",
              " 2,\n",
              " 345,\n",
              " 45,\n",
              " 'raj',\n",
              " (5+7j),\n",
              " 35.42,\n",
              " True]"
            ]
          },
          "metadata": {},
          "execution_count": 5
        }
      ]
    },
    {
      "cell_type": "code",
      "source": [
        "l[3][0:2]"
      ],
      "metadata": {
        "colab": {
          "base_uri": "https://localhost:8080/",
          "height": 35
        },
        "id": "Us16sOpp5rj1",
        "outputId": "ad03e60a-7f0a-4f93-b6d6-814809deaca6"
      },
      "execution_count": null,
      "outputs": [
        {
          "output_type": "execute_result",
          "data": {
            "text/plain": [
              "'ra'"
            ],
            "application/vnd.google.colaboratory.intrinsic+json": {
              "type": "string"
            }
          },
          "metadata": {},
          "execution_count": 3
        }
      ]
    },
    {
      "cell_type": "markdown",
      "source": [
        "### Just like list, string also perform indexing and slicing"
      ],
      "metadata": {
        "id": "x735DQg3xMEo"
      }
    },
    {
      "cell_type": "code",
      "source": [
        "l[6][0:2]"
      ],
      "metadata": {
        "colab": {
          "base_uri": "https://localhost:8080/",
          "height": 204
        },
        "id": "pSLytnR1w9-N",
        "outputId": "9f7be412-aa00-4d66-e997-9370d292df51"
      },
      "execution_count": null,
      "outputs": [
        {
          "output_type": "error",
          "ename": "TypeError",
          "evalue": "ignored",
          "traceback": [
            "\u001b[0;31m---------------------------------------------------------------------------\u001b[0m",
            "\u001b[0;31mTypeError\u001b[0m                                 Traceback (most recent call last)",
            "\u001b[0;32m<ipython-input-4-07662201ae6f>\u001b[0m in \u001b[0;36m<cell line: 1>\u001b[0;34m()\u001b[0m\n\u001b[0;32m----> 1\u001b[0;31m \u001b[0ml\u001b[0m\u001b[0;34m[\u001b[0m\u001b[0;36m6\u001b[0m\u001b[0;34m]\u001b[0m\u001b[0;34m[\u001b[0m\u001b[0;36m0\u001b[0m\u001b[0;34m:\u001b[0m\u001b[0;36m2\u001b[0m\u001b[0;34m]\u001b[0m\u001b[0;34m\u001b[0m\u001b[0;34m\u001b[0m\u001b[0m\n\u001b[0m",
            "\u001b[0;31mTypeError\u001b[0m: 'bool' object is not subscriptable"
          ]
        }
      ]
    },
    {
      "cell_type": "code",
      "source": [
        "str(l[6][0:2])"
      ],
      "metadata": {
        "colab": {
          "base_uri": "https://localhost:8080/",
          "height": 204
        },
        "id": "3qL-oF4JxmXI",
        "outputId": "efba062b-2c01-444a-8e9e-dd7bd2a8b2c7"
      },
      "execution_count": null,
      "outputs": [
        {
          "output_type": "error",
          "ename": "TypeError",
          "evalue": "ignored",
          "traceback": [
            "\u001b[0;31m---------------------------------------------------------------------------\u001b[0m",
            "\u001b[0;31mTypeError\u001b[0m                                 Traceback (most recent call last)",
            "\u001b[0;32m<ipython-input-5-01cfa89d4c3a>\u001b[0m in \u001b[0;36m<cell line: 1>\u001b[0;34m()\u001b[0m\n\u001b[0;32m----> 1\u001b[0;31m \u001b[0mstr\u001b[0m\u001b[0;34m(\u001b[0m\u001b[0ml\u001b[0m\u001b[0;34m[\u001b[0m\u001b[0;36m6\u001b[0m\u001b[0;34m]\u001b[0m\u001b[0;34m[\u001b[0m\u001b[0;36m0\u001b[0m\u001b[0;34m:\u001b[0m\u001b[0;36m2\u001b[0m\u001b[0;34m]\u001b[0m\u001b[0;34m)\u001b[0m\u001b[0;34m\u001b[0m\u001b[0;34m\u001b[0m\u001b[0m\n\u001b[0m",
            "\u001b[0;31mTypeError\u001b[0m: 'bool' object is not subscriptable"
          ]
        }
      ]
    },
    {
      "cell_type": "markdown",
      "source": [
        "## Boolean does not support slicing operation"
      ],
      "metadata": {
        "id": "1OKg4tPiyWPm"
      }
    },
    {
      "cell_type": "code",
      "source": [
        "str(l[6])[0:2]"
      ],
      "metadata": {
        "colab": {
          "base_uri": "https://localhost:8080/",
          "height": 35
        },
        "id": "eVijB8QixwJB",
        "outputId": "b551f64e-02cb-4d46-9143-1dbd2433d91d"
      },
      "execution_count": null,
      "outputs": [
        {
          "output_type": "execute_result",
          "data": {
            "text/plain": [
              "'Tr'"
            ],
            "application/vnd.google.colaboratory.intrinsic+json": {
              "type": "string"
            }
          },
          "metadata": {},
          "execution_count": 6
        }
      ]
    },
    {
      "cell_type": "markdown",
      "source": [
        "### Type casting is nothing but conversion of one data type into another"
      ],
      "metadata": {
        "id": "8Jms5jL1yqwE"
      }
    },
    {
      "cell_type": "code",
      "source": [
        "l + 5"
      ],
      "metadata": {
        "colab": {
          "base_uri": "https://localhost:8080/",
          "height": 204
        },
        "id": "j-3LzA2Vyl9s",
        "outputId": "2552fc29-bd8b-4aa4-ecbe-16871e3c551d"
      },
      "execution_count": null,
      "outputs": [
        {
          "output_type": "error",
          "ename": "TypeError",
          "evalue": "ignored",
          "traceback": [
            "\u001b[0;31m---------------------------------------------------------------------------\u001b[0m",
            "\u001b[0;31mTypeError\u001b[0m                                 Traceback (most recent call last)",
            "\u001b[0;32m<ipython-input-7-61420124d028>\u001b[0m in \u001b[0;36m<cell line: 1>\u001b[0;34m()\u001b[0m\n\u001b[0;32m----> 1\u001b[0;31m \u001b[0ml\u001b[0m \u001b[0;34m+\u001b[0m \u001b[0;36m5\u001b[0m\u001b[0;34m\u001b[0m\u001b[0;34m\u001b[0m\u001b[0m\n\u001b[0m",
            "\u001b[0;31mTypeError\u001b[0m: can only concatenate list (not \"int\") to list"
          ]
        }
      ]
    },
    {
      "cell_type": "code",
      "source": [
        "l1 = [1,2,3,4]"
      ],
      "metadata": {
        "id": "ZiCd6aF3zOWI"
      },
      "execution_count": null,
      "outputs": []
    },
    {
      "cell_type": "code",
      "source": [
        "l + l1"
      ],
      "metadata": {
        "colab": {
          "base_uri": "https://localhost:8080/"
        },
        "id": "LnK-xjnfzVeN",
        "outputId": "a9c4c323-9698-4ccc-f2c9-cb014dccdf0b"
      },
      "execution_count": null,
      "outputs": [
        {
          "output_type": "execute_result",
          "data": {
            "text/plain": [
              "[2, 345, 45, 'raj', (5+7j), 35.42, True, 1, 2, 3, 4]"
            ]
          },
          "metadata": {},
          "execution_count": 9
        }
      ]
    },
    {
      "cell_type": "code",
      "source": [
        "l1*3"
      ],
      "metadata": {
        "colab": {
          "base_uri": "https://localhost:8080/"
        },
        "id": "-NxE0i9yzXGR",
        "outputId": "1525d7f3-3f95-4529-86d0-274994429734"
      },
      "execution_count": null,
      "outputs": [
        {
          "output_type": "execute_result",
          "data": {
            "text/plain": [
              "[1, 2, 3, 4, 1, 2, 3, 4, 1, 2, 3, 4]"
            ]
          },
          "metadata": {},
          "execution_count": 10
        }
      ]
    },
    {
      "cell_type": "code",
      "source": [
        "len(l)"
      ],
      "metadata": {
        "colab": {
          "base_uri": "https://localhost:8080/"
        },
        "id": "v0j_gU1VzcFX",
        "outputId": "47b1c88c-75c4-4017-a3d7-e085a62940b0"
      },
      "execution_count": null,
      "outputs": [
        {
          "output_type": "execute_result",
          "data": {
            "text/plain": [
              "7"
            ]
          },
          "metadata": {},
          "execution_count": 11
        }
      ]
    },
    {
      "cell_type": "code",
      "source": [
        "l"
      ],
      "metadata": {
        "colab": {
          "base_uri": "https://localhost:8080/"
        },
        "id": "_2cZWNCUzerB",
        "outputId": "fe36e406-9677-4271-8b43-9572e7ad28f6"
      },
      "execution_count": null,
      "outputs": [
        {
          "output_type": "execute_result",
          "data": {
            "text/plain": [
              "[2, 345, 45, 'raj', (5+7j), 35.42, True]"
            ]
          },
          "metadata": {},
          "execution_count": 12
        }
      ]
    },
    {
      "cell_type": "code",
      "source": [
        "l.append(5)"
      ],
      "metadata": {
        "id": "e5rGQWSQzjzt"
      },
      "execution_count": null,
      "outputs": []
    },
    {
      "cell_type": "code",
      "source": [
        "l"
      ],
      "metadata": {
        "colab": {
          "base_uri": "https://localhost:8080/"
        },
        "id": "nAifJAJIzrFy",
        "outputId": "dfc87421-f1c2-4f18-893e-3df9ab50c0e6"
      },
      "execution_count": null,
      "outputs": [
        {
          "output_type": "execute_result",
          "data": {
            "text/plain": [
              "[2, 345, 45, 'raj', (5+7j), 35.42, True, 5]"
            ]
          },
          "metadata": {},
          "execution_count": 14
        }
      ]
    },
    {
      "cell_type": "code",
      "source": [
        "s = \"sudh\""
      ],
      "metadata": {
        "id": "CKJOOrE4zzdb"
      },
      "execution_count": null,
      "outputs": []
    },
    {
      "cell_type": "code",
      "source": [
        "l.append(s)"
      ],
      "metadata": {
        "id": "LieJgeNS0D28"
      },
      "execution_count": null,
      "outputs": []
    },
    {
      "cell_type": "code",
      "source": [
        "l"
      ],
      "metadata": {
        "colab": {
          "base_uri": "https://localhost:8080/"
        },
        "id": "-zosF1XY0GDQ",
        "outputId": "5506fe26-6f93-4c81-ecd6-3e256b9bb530"
      },
      "execution_count": null,
      "outputs": [
        {
          "output_type": "execute_result",
          "data": {
            "text/plain": [
              "[2, 345, 45, 'raj', (5+7j), 35.42, True, 5, 'sudh']"
            ]
          },
          "metadata": {},
          "execution_count": 19
        }
      ]
    },
    {
      "cell_type": "code",
      "source": [
        "l.append(\"raj\")"
      ],
      "metadata": {
        "id": "07KQ8fmy0HhH"
      },
      "execution_count": null,
      "outputs": []
    },
    {
      "cell_type": "code",
      "source": [
        "l"
      ],
      "metadata": {
        "colab": {
          "base_uri": "https://localhost:8080/"
        },
        "id": "JndzSaJi0NCC",
        "outputId": "c9a21ad6-0739-4875-f4eb-542a64c7a88b"
      },
      "execution_count": null,
      "outputs": [
        {
          "output_type": "execute_result",
          "data": {
            "text/plain": [
              "[2, 345, 45, 'raj', (5+7j), 35.42, True, 5, 'sudh', 'raj']"
            ]
          },
          "metadata": {},
          "execution_count": 21
        }
      ]
    },
    {
      "cell_type": "code",
      "source": [
        "l[-1][1]"
      ],
      "metadata": {
        "colab": {
          "base_uri": "https://localhost:8080/",
          "height": 35
        },
        "id": "ElMlGYIz0ONP",
        "outputId": "af392a0f-02c1-4a4d-f87d-cb2c4a59622d"
      },
      "execution_count": null,
      "outputs": [
        {
          "output_type": "execute_result",
          "data": {
            "text/plain": [
              "'a'"
            ],
            "application/vnd.google.colaboratory.intrinsic+json": {
              "type": "string"
            }
          },
          "metadata": {},
          "execution_count": 22
        }
      ]
    },
    {
      "cell_type": "markdown",
      "source": [
        "## Append function add the element at the end of list works on the list element only."
      ],
      "metadata": {
        "id": "j6kVjahq1Cqt"
      }
    },
    {
      "cell_type": "code",
      "source": [
        "s = \"sudh\""
      ],
      "metadata": {
        "id": "oKz-pq0e0cj4"
      },
      "execution_count": null,
      "outputs": []
    },
    {
      "cell_type": "code",
      "source": [
        "s.append(\"a\")"
      ],
      "metadata": {
        "colab": {
          "base_uri": "https://localhost:8080/",
          "height": 204
        },
        "id": "ShaPVt871Qda",
        "outputId": "7083f3fe-b1cd-4f57-ff07-5cabbce71a12"
      },
      "execution_count": null,
      "outputs": [
        {
          "output_type": "error",
          "ename": "AttributeError",
          "evalue": "ignored",
          "traceback": [
            "\u001b[0;31m---------------------------------------------------------------------------\u001b[0m",
            "\u001b[0;31mAttributeError\u001b[0m                            Traceback (most recent call last)",
            "\u001b[0;32m<ipython-input-24-d26386d4d11f>\u001b[0m in \u001b[0;36m<cell line: 1>\u001b[0;34m()\u001b[0m\n\u001b[0;32m----> 1\u001b[0;31m \u001b[0ms\u001b[0m\u001b[0;34m.\u001b[0m\u001b[0mappend\u001b[0m\u001b[0;34m(\u001b[0m\u001b[0;34m\"a\"\u001b[0m\u001b[0;34m)\u001b[0m\u001b[0;34m\u001b[0m\u001b[0;34m\u001b[0m\u001b[0m\n\u001b[0m",
            "\u001b[0;31mAttributeError\u001b[0m: 'str' object has no attribute 'append'"
          ]
        }
      ]
    },
    {
      "cell_type": "markdown",
      "source": [
        "### Extend function works on list. It first unwrap break each element and then add to list"
      ],
      "metadata": {
        "id": "IMZp0Ycc1kvI"
      }
    },
    {
      "cell_type": "code",
      "source": [
        "l.extend(\"sudh\")"
      ],
      "metadata": {
        "id": "Zy4cmRy01W-j"
      },
      "execution_count": null,
      "outputs": []
    },
    {
      "cell_type": "code",
      "source": [
        "l"
      ],
      "metadata": {
        "colab": {
          "base_uri": "https://localhost:8080/"
        },
        "id": "_Q_eeT4T19Ge",
        "outputId": "6f5e8cca-c15b-46ca-b120-a7cc254ef4df"
      },
      "execution_count": null,
      "outputs": [
        {
          "output_type": "execute_result",
          "data": {
            "text/plain": [
              "[2, 345, 45, 'raj', (5+7j), 35.42, True, 5, 'sudh', 'raj', 's', 'u', 'd', 'h']"
            ]
          },
          "metadata": {},
          "execution_count": 26
        }
      ]
    },
    {
      "cell_type": "code",
      "source": [
        "s.extend(\"abc\")"
      ],
      "metadata": {
        "colab": {
          "base_uri": "https://localhost:8080/",
          "height": 204
        },
        "id": "mjC39tLK1-Fg",
        "outputId": "c0275623-118a-455c-b1d7-7ac165fc7cae"
      },
      "execution_count": null,
      "outputs": [
        {
          "output_type": "error",
          "ename": "AttributeError",
          "evalue": "ignored",
          "traceback": [
            "\u001b[0;31m---------------------------------------------------------------------------\u001b[0m",
            "\u001b[0;31mAttributeError\u001b[0m                            Traceback (most recent call last)",
            "\u001b[0;32m<ipython-input-27-44cf811915c7>\u001b[0m in \u001b[0;36m<cell line: 1>\u001b[0;34m()\u001b[0m\n\u001b[0;32m----> 1\u001b[0;31m \u001b[0ms\u001b[0m\u001b[0;34m.\u001b[0m\u001b[0mextend\u001b[0m\u001b[0;34m(\u001b[0m\u001b[0;34m\"abc\"\u001b[0m\u001b[0;34m)\u001b[0m\u001b[0;34m\u001b[0m\u001b[0;34m\u001b[0m\u001b[0m\n\u001b[0m",
            "\u001b[0;31mAttributeError\u001b[0m: 'str' object has no attribute 'extend'"
          ]
        }
      ]
    },
    {
      "cell_type": "markdown",
      "source": [
        "### Insert function add the element at the given index provided"
      ],
      "metadata": {
        "id": "-WLq5cbn2v3y"
      }
    },
    {
      "cell_type": "code",
      "source": [
        "l1 = [2,3,4,5]"
      ],
      "metadata": {
        "id": "pYXWUj-E2G3b"
      },
      "execution_count": null,
      "outputs": []
    },
    {
      "cell_type": "code",
      "source": [
        "l1.insert(1, \"raj\")"
      ],
      "metadata": {
        "id": "8S_qy0dq28Vx"
      },
      "execution_count": null,
      "outputs": []
    },
    {
      "cell_type": "code",
      "source": [
        "l1"
      ],
      "metadata": {
        "colab": {
          "base_uri": "https://localhost:8080/"
        },
        "id": "D32VGcrd3DZi",
        "outputId": "4dab78e5-dca1-4c32-8028-3bfa709a5e1f"
      },
      "execution_count": null,
      "outputs": [
        {
          "output_type": "execute_result",
          "data": {
            "text/plain": [
              "[2, 'raj', 3, 4, 5]"
            ]
          },
          "metadata": {},
          "execution_count": 30
        }
      ]
    },
    {
      "cell_type": "code",
      "source": [],
      "metadata": {
        "id": "FJAf68ov3Ehk"
      },
      "execution_count": null,
      "outputs": []
    },
    {
      "cell_type": "markdown",
      "source": [
        "### Function for deleting data in a list"
      ],
      "metadata": {
        "id": "NpwkfjTN3Tro"
      }
    },
    {
      "cell_type": "code",
      "source": [
        "l1.pop()"
      ],
      "metadata": {
        "colab": {
          "base_uri": "https://localhost:8080/"
        },
        "id": "zNIgKVYD3dxE",
        "outputId": "bc265936-951e-41b5-d5e1-74079bbf2384"
      },
      "execution_count": null,
      "outputs": [
        {
          "output_type": "execute_result",
          "data": {
            "text/plain": [
              "5"
            ]
          },
          "metadata": {},
          "execution_count": 31
        }
      ]
    },
    {
      "cell_type": "code",
      "source": [
        "l1"
      ],
      "metadata": {
        "colab": {
          "base_uri": "https://localhost:8080/"
        },
        "id": "EZSka1Kr3i1x",
        "outputId": "85680aa7-e270-40c9-dd80-647f86a61d06"
      },
      "execution_count": null,
      "outputs": [
        {
          "output_type": "execute_result",
          "data": {
            "text/plain": [
              "[2, 3, 4, 5]"
            ]
          },
          "metadata": {},
          "execution_count": 4
        }
      ]
    },
    {
      "cell_type": "markdown",
      "source": [
        "### Pop function just remove element from the back of list"
      ],
      "metadata": {
        "id": "U_ZQSdzR3nMh"
      }
    },
    {
      "cell_type": "code",
      "source": [
        "l1.pop(1)"
      ],
      "metadata": {
        "colab": {
          "base_uri": "https://localhost:8080/",
          "height": 35
        },
        "id": "hKPIyA5j3k-m",
        "outputId": "a64a7452-6dad-4fb7-e6e6-1e7bca1f4652"
      },
      "execution_count": null,
      "outputs": [
        {
          "output_type": "execute_result",
          "data": {
            "text/plain": [
              "'raj'"
            ],
            "application/vnd.google.colaboratory.intrinsic+json": {
              "type": "string"
            }
          },
          "metadata": {},
          "execution_count": 33
        }
      ]
    },
    {
      "cell_type": "code",
      "source": [
        "l1"
      ],
      "metadata": {
        "id": "gVVleZoU3-vc",
        "colab": {
          "base_uri": "https://localhost:8080/"
        },
        "outputId": "582c865b-e064-4c8a-d362-614371edf2e6"
      },
      "execution_count": null,
      "outputs": [
        {
          "output_type": "execute_result",
          "data": {
            "text/plain": [
              "[2, 3, 4, 5]"
            ]
          },
          "metadata": {},
          "execution_count": 5
        }
      ]
    },
    {
      "cell_type": "code",
      "source": [
        "l1.append([\"singh\", \"pwskills\", 35.42])"
      ],
      "metadata": {
        "id": "wBes0tNf48ZG"
      },
      "execution_count": null,
      "outputs": []
    },
    {
      "cell_type": "code",
      "source": [
        "l1"
      ],
      "metadata": {
        "colab": {
          "base_uri": "https://localhost:8080/"
        },
        "id": "Kd1PLx445eBz",
        "outputId": "1dc44ac7-87c0-400c-d48a-b37fec6caa0a"
      },
      "execution_count": null,
      "outputs": [
        {
          "output_type": "execute_result",
          "data": {
            "text/plain": [
              "[2, 3, 4, 5, ['singh', 'pwskills', 35.42]]"
            ]
          },
          "metadata": {},
          "execution_count": 8
        }
      ]
    },
    {
      "cell_type": "code",
      "source": [
        "l1.pop(2)"
      ],
      "metadata": {
        "colab": {
          "base_uri": "https://localhost:8080/"
        },
        "id": "wIBCwgwY5nIb",
        "outputId": "6e6bd8fc-5d5c-405f-d16e-687d727ec4b9"
      },
      "execution_count": null,
      "outputs": [
        {
          "output_type": "execute_result",
          "data": {
            "text/plain": [
              "4"
            ]
          },
          "metadata": {},
          "execution_count": 9
        }
      ]
    },
    {
      "cell_type": "code",
      "source": [
        "l1"
      ],
      "metadata": {
        "colab": {
          "base_uri": "https://localhost:8080/"
        },
        "id": "nOON12db5tYd",
        "outputId": "e8a45673-7197-4de0-d965-a3cd440f1942"
      },
      "execution_count": null,
      "outputs": [
        {
          "output_type": "execute_result",
          "data": {
            "text/plain": [
              "[2, 3, 5]"
            ]
          },
          "metadata": {},
          "execution_count": 14
        }
      ]
    },
    {
      "cell_type": "code",
      "source": [
        "l1"
      ],
      "metadata": {
        "colab": {
          "base_uri": "https://localhost:8080/"
        },
        "id": "-O1AqbHK587k",
        "outputId": "96fc505e-29cd-4624-a503-d1f11a2fc7bb"
      },
      "execution_count": null,
      "outputs": [
        {
          "output_type": "execute_result",
          "data": {
            "text/plain": [
              "[2, 3, 5]"
            ]
          },
          "metadata": {},
          "execution_count": 16
        }
      ]
    },
    {
      "cell_type": "code",
      "source": [
        "l1.append([\"singh\", \"pwskills\", 35.42])"
      ],
      "metadata": {
        "id": "aCA1Y9Kt6hvT"
      },
      "execution_count": null,
      "outputs": []
    },
    {
      "cell_type": "code",
      "source": [
        "l1"
      ],
      "metadata": {
        "colab": {
          "base_uri": "https://localhost:8080/"
        },
        "id": "_Xj9oivR6ph2",
        "outputId": "c6841d06-f3c8-4183-ff56-650d1ddbef83"
      },
      "execution_count": null,
      "outputs": [
        {
          "output_type": "execute_result",
          "data": {
            "text/plain": [
              "[2, 3, 5, ['singh', 'pwskills', 35.42]]"
            ]
          },
          "metadata": {},
          "execution_count": 18
        }
      ]
    },
    {
      "cell_type": "code",
      "source": [
        "l1[3].remove(\"pwskills\")"
      ],
      "metadata": {
        "id": "FNb5Js9i6q7m"
      },
      "execution_count": null,
      "outputs": []
    },
    {
      "cell_type": "code",
      "source": [
        "l1"
      ],
      "metadata": {
        "colab": {
          "base_uri": "https://localhost:8080/"
        },
        "id": "OudJkQo1619L",
        "outputId": "4f3bd45c-79e2-4ba6-cf43-19e1492f9f71"
      },
      "execution_count": null,
      "outputs": [
        {
          "output_type": "execute_result",
          "data": {
            "text/plain": [
              "[2, 3, 5, ['singh', 35.42]]"
            ]
          },
          "metadata": {},
          "execution_count": 21
        }
      ]
    },
    {
      "cell_type": "code",
      "source": [
        "l1.reverse()"
      ],
      "metadata": {
        "id": "pYjf23p_7C8g"
      },
      "execution_count": null,
      "outputs": []
    },
    {
      "cell_type": "code",
      "source": [
        "l1"
      ],
      "metadata": {
        "colab": {
          "base_uri": "https://localhost:8080/"
        },
        "id": "w2ESfGfN7Kan",
        "outputId": "9dd56cac-af59-4554-fd02-9c1c74c0f281"
      },
      "execution_count": null,
      "outputs": [
        {
          "output_type": "execute_result",
          "data": {
            "text/plain": [
              "[['singh', 35.42], 5, 3, 2]"
            ]
          },
          "metadata": {},
          "execution_count": 23
        }
      ]
    },
    {
      "cell_type": "markdown",
      "source": [
        "### .reverse() reverse the list permanent whereas as reversing the permanent use [::-1]\n"
      ],
      "metadata": {
        "id": "Ihy4er7K7aUt"
      }
    },
    {
      "cell_type": "code",
      "source": [
        "l2 = [45,23,0,6,7,8,9]"
      ],
      "metadata": {
        "id": "jEOL-Lm77LuN"
      },
      "execution_count": null,
      "outputs": []
    },
    {
      "cell_type": "code",
      "source": [
        "l2.sort()"
      ],
      "metadata": {
        "id": "nd6HWLWt8FUL"
      },
      "execution_count": null,
      "outputs": []
    },
    {
      "cell_type": "code",
      "source": [
        "l2"
      ],
      "metadata": {
        "colab": {
          "base_uri": "https://localhost:8080/"
        },
        "id": "IaEyUmvE8OHA",
        "outputId": "9a436f45-3e3a-4019-d94c-69d1d5d473a2"
      },
      "execution_count": null,
      "outputs": [
        {
          "output_type": "execute_result",
          "data": {
            "text/plain": [
              "[0, 6, 7, 8, 9, 23, 45]"
            ]
          },
          "metadata": {},
          "execution_count": 26
        }
      ]
    },
    {
      "cell_type": "markdown",
      "source": [
        "### sort() function arrange the element in ascending order."
      ],
      "metadata": {
        "id": "lDJ68-bs8XhX"
      }
    },
    {
      "cell_type": "code",
      "source": [
        "l3 = [\"vrij\", \"raj\", \"singh\", \"gaur\"]"
      ],
      "metadata": {
        "id": "4WcTOHuN8PR_"
      },
      "execution_count": null,
      "outputs": []
    },
    {
      "cell_type": "code",
      "source": [
        "l3.sort()"
      ],
      "metadata": {
        "id": "KPLLfZ3M9OvZ"
      },
      "execution_count": null,
      "outputs": []
    },
    {
      "cell_type": "code",
      "source": [
        "l3"
      ],
      "metadata": {
        "colab": {
          "base_uri": "https://localhost:8080/"
        },
        "id": "aX5DlBtI9TiH",
        "outputId": "8512b929-30fe-4942-aa53-4a52bb145eaa"
      },
      "execution_count": null,
      "outputs": [
        {
          "output_type": "execute_result",
          "data": {
            "text/plain": [
              "['gaur', 'raj', 'singh', 'vrij']"
            ]
          },
          "metadata": {},
          "execution_count": 29
        }
      ]
    },
    {
      "cell_type": "code",
      "source": [
        "l3.sort(reverse = True)"
      ],
      "metadata": {
        "id": "LeaYKfv79vm2"
      },
      "execution_count": null,
      "outputs": []
    },
    {
      "cell_type": "code",
      "source": [
        "l3"
      ],
      "metadata": {
        "colab": {
          "base_uri": "https://localhost:8080/"
        },
        "id": "NKJC3Ylj97Y9",
        "outputId": "cd7510f3-2856-440b-a5de-e81c34f534c5"
      },
      "execution_count": null,
      "outputs": [
        {
          "output_type": "execute_result",
          "data": {
            "text/plain": [
              "['vrij', 'singh', 'raj', 'gaur']"
            ]
          },
          "metadata": {},
          "execution_count": 31
        }
      ]
    },
    {
      "cell_type": "code",
      "source": [
        "l3.count(\"vrij\")"
      ],
      "metadata": {
        "colab": {
          "base_uri": "https://localhost:8080/"
        },
        "id": "sZ365owc9_qD",
        "outputId": "cb96c882-5e64-4457-8821-3be018533526"
      },
      "execution_count": null,
      "outputs": [
        {
          "output_type": "execute_result",
          "data": {
            "text/plain": [
              "1"
            ]
          },
          "metadata": {},
          "execution_count": 33
        }
      ]
    },
    {
      "cell_type": "markdown",
      "source": [
        "### count() function count the number times that element comes in a list>"
      ],
      "metadata": {
        "id": "5EMlATWS_B5R"
      }
    },
    {
      "cell_type": "code",
      "source": [
        "s = \"sudhansu\""
      ],
      "metadata": {
        "id": "R2F7BKdK-Vym"
      },
      "execution_count": null,
      "outputs": []
    },
    {
      "cell_type": "code",
      "source": [
        "s.replace('s' , 'a')"
      ],
      "metadata": {
        "colab": {
          "base_uri": "https://localhost:8080/",
          "height": 35
        },
        "id": "KUUdJPyIDPKO",
        "outputId": "3428da22-378e-445e-fc94-64acb3123df6"
      },
      "execution_count": null,
      "outputs": [
        {
          "output_type": "execute_result",
          "data": {
            "text/plain": [
              "'audhanau'"
            ],
            "application/vnd.google.colaboratory.intrinsic+json": {
              "type": "string"
            }
          },
          "metadata": {},
          "execution_count": 35
        }
      ]
    },
    {
      "cell_type": "markdown",
      "source": [
        "# Tuples"
      ],
      "metadata": {
        "id": "XMk4QUKxDjRA"
      }
    },
    {
      "cell_type": "code",
      "source": [
        "t = (2,3,4,5, \"raj\", False, 35.42, 4+7j, [6,7,8])"
      ],
      "metadata": {
        "id": "ev35Uk47DWOd"
      },
      "execution_count": null,
      "outputs": []
    },
    {
      "cell_type": "code",
      "source": [
        "t"
      ],
      "metadata": {
        "colab": {
          "base_uri": "https://localhost:8080/"
        },
        "id": "1b9k1rv7EDCz",
        "outputId": "5ca1dee3-5ec0-438a-f2ac-96320384e01c"
      },
      "execution_count": null,
      "outputs": [
        {
          "output_type": "execute_result",
          "data": {
            "text/plain": [
              "(2, 3, 4, 5, 'raj', False, 35.42, (4+7j), [6, 7, 8])"
            ]
          },
          "metadata": {},
          "execution_count": 37
        }
      ]
    },
    {
      "cell_type": "code",
      "source": [
        "type(t)"
      ],
      "metadata": {
        "colab": {
          "base_uri": "https://localhost:8080/"
        },
        "id": "PEj7LNyOEFRJ",
        "outputId": "6919e364-10b7-4055-870e-73926d36a6c1"
      },
      "execution_count": null,
      "outputs": [
        {
          "output_type": "execute_result",
          "data": {
            "text/plain": [
              "tuple"
            ]
          },
          "metadata": {},
          "execution_count": 38
        }
      ]
    },
    {
      "cell_type": "code",
      "source": [
        "len(t)"
      ],
      "metadata": {
        "colab": {
          "base_uri": "https://localhost:8080/"
        },
        "id": "Crv0cEw-EK-m",
        "outputId": "97edcac7-8378-48ee-84c7-837fc0883efa"
      },
      "execution_count": null,
      "outputs": [
        {
          "output_type": "execute_result",
          "data": {
            "text/plain": [
              "9"
            ]
          },
          "metadata": {},
          "execution_count": 39
        }
      ]
    },
    {
      "cell_type": "code",
      "source": [
        "t[0]"
      ],
      "metadata": {
        "colab": {
          "base_uri": "https://localhost:8080/"
        },
        "id": "PLmth00LENJo",
        "outputId": "3b040781-fde2-4871-bb24-875722316c29"
      },
      "execution_count": null,
      "outputs": [
        {
          "output_type": "execute_result",
          "data": {
            "text/plain": [
              "2"
            ]
          },
          "metadata": {},
          "execution_count": 40
        }
      ]
    },
    {
      "cell_type": "code",
      "source": [
        "t[-1]"
      ],
      "metadata": {
        "colab": {
          "base_uri": "https://localhost:8080/"
        },
        "id": "-Y4RwqLqEPlZ",
        "outputId": "905eaf0b-841f-4d4d-b0a9-58b7f93b8190"
      },
      "execution_count": null,
      "outputs": [
        {
          "output_type": "execute_result",
          "data": {
            "text/plain": [
              "[6, 7, 8]"
            ]
          },
          "metadata": {},
          "execution_count": 41
        }
      ]
    },
    {
      "cell_type": "code",
      "source": [
        "t[::-1]"
      ],
      "metadata": {
        "colab": {
          "base_uri": "https://localhost:8080/"
        },
        "id": "vuI6UAwaETI4",
        "outputId": "14decb5e-021a-40c2-ab2c-a88bb2da43b4"
      },
      "execution_count": null,
      "outputs": [
        {
          "output_type": "execute_result",
          "data": {
            "text/plain": [
              "([6, 7, 8], (4+7j), 35.42, False, 'raj', 5, 4, 3, 2)"
            ]
          },
          "metadata": {},
          "execution_count": 42
        }
      ]
    },
    {
      "cell_type": "code",
      "source": [
        "t[0]= \"pwskills\""
      ],
      "metadata": {
        "colab": {
          "base_uri": "https://localhost:8080/",
          "height": 204
        },
        "id": "G2zSfxeYEVP1",
        "outputId": "bcb3ddb4-fc59-478e-b8aa-fa5d7a240c1a"
      },
      "execution_count": null,
      "outputs": [
        {
          "output_type": "error",
          "ename": "TypeError",
          "evalue": "ignored",
          "traceback": [
            "\u001b[0;31m---------------------------------------------------------------------------\u001b[0m",
            "\u001b[0;31mTypeError\u001b[0m                                 Traceback (most recent call last)",
            "\u001b[0;32m<ipython-input-43-dc6f26068f40>\u001b[0m in \u001b[0;36m<cell line: 1>\u001b[0;34m()\u001b[0m\n\u001b[0;32m----> 1\u001b[0;31m \u001b[0mt\u001b[0m\u001b[0;34m[\u001b[0m\u001b[0;36m0\u001b[0m\u001b[0;34m]\u001b[0m\u001b[0;34m=\u001b[0m \u001b[0;34m\"pwskills\"\u001b[0m\u001b[0;34m\u001b[0m\u001b[0;34m\u001b[0m\u001b[0m\n\u001b[0m",
            "\u001b[0;31mTypeError\u001b[0m: 'tuple' object does not support item assignment"
          ]
        }
      ]
    },
    {
      "cell_type": "markdown",
      "source": [
        "### Tuples are immutable means items can't be re assign."
      ],
      "metadata": {
        "id": "xDmtzf1DEpW9"
      }
    },
    {
      "cell_type": "markdown",
      "source": [
        "# Set Data Type"
      ],
      "metadata": {
        "id": "7zn1jLaHE5s-"
      }
    },
    {
      "cell_type": "code",
      "source": [
        "s1 = {}"
      ],
      "metadata": {
        "id": "c85YhE68EeFE"
      },
      "execution_count": null,
      "outputs": []
    },
    {
      "cell_type": "code",
      "source": [
        "type(s1)"
      ],
      "metadata": {
        "colab": {
          "base_uri": "https://localhost:8080/"
        },
        "id": "7yUOpf-nFZdR",
        "outputId": "062c2a52-7895-4524-9569-42bf25e2a7db"
      },
      "execution_count": null,
      "outputs": [
        {
          "output_type": "execute_result",
          "data": {
            "text/plain": [
              "dict"
            ]
          },
          "metadata": {},
          "execution_count": 45
        }
      ]
    },
    {
      "cell_type": "code",
      "source": [
        "s2 = {2,3,4,5,6}"
      ],
      "metadata": {
        "id": "nO8Blec4FbZN"
      },
      "execution_count": null,
      "outputs": []
    },
    {
      "cell_type": "code",
      "source": [
        "type(s2)"
      ],
      "metadata": {
        "colab": {
          "base_uri": "https://localhost:8080/"
        },
        "id": "Yrq4MIitFj4G",
        "outputId": "6533422c-d519-48d6-b74f-406efd4be3c1"
      },
      "execution_count": null,
      "outputs": [
        {
          "output_type": "execute_result",
          "data": {
            "text/plain": [
              "set"
            ]
          },
          "metadata": {},
          "execution_count": 47
        }
      ]
    },
    {
      "cell_type": "code",
      "source": [
        "s2[1] = 6"
      ],
      "metadata": {
        "colab": {
          "base_uri": "https://localhost:8080/",
          "height": 204
        },
        "id": "VfmqQC19FllE",
        "outputId": "50268912-ef87-4331-e3c8-b972659fd1b0"
      },
      "execution_count": null,
      "outputs": [
        {
          "output_type": "error",
          "ename": "TypeError",
          "evalue": "ignored",
          "traceback": [
            "\u001b[0;31m---------------------------------------------------------------------------\u001b[0m",
            "\u001b[0;31mTypeError\u001b[0m                                 Traceback (most recent call last)",
            "\u001b[0;32m<ipython-input-48-c11767715038>\u001b[0m in \u001b[0;36m<cell line: 1>\u001b[0;34m()\u001b[0m\n\u001b[0;32m----> 1\u001b[0;31m \u001b[0ms2\u001b[0m\u001b[0;34m[\u001b[0m\u001b[0;36m1\u001b[0m\u001b[0;34m]\u001b[0m \u001b[0;34m=\u001b[0m \u001b[0;36m6\u001b[0m\u001b[0;34m\u001b[0m\u001b[0;34m\u001b[0m\u001b[0m\n\u001b[0m",
            "\u001b[0;31mTypeError\u001b[0m: 'set' object does not support item assignment"
          ]
        }
      ]
    },
    {
      "cell_type": "code",
      "source": [
        "s3 = {324,35.42,5+7j, True, (3,4,5)}"
      ],
      "metadata": {
        "id": "a4MvAxg4GShf"
      },
      "execution_count": null,
      "outputs": []
    },
    {
      "cell_type": "markdown",
      "source": [
        "### Set can take tuples  immutable and cannot take list muttable and reduce the duplicate."
      ],
      "metadata": {
        "id": "NoXw8HSeG0mY"
      }
    },
    {
      "cell_type": "code",
      "source": [
        "s4 = {2,3,4,5,2,2,3,4,5,6,2,3,4,4,5,5,6}"
      ],
      "metadata": {
        "id": "VrVb9SUdGvNd"
      },
      "execution_count": null,
      "outputs": []
    },
    {
      "cell_type": "code",
      "source": [
        "s4"
      ],
      "metadata": {
        "colab": {
          "base_uri": "https://localhost:8080/"
        },
        "id": "SP840fd2HiCT",
        "outputId": "ff670190-239c-4b75-92a2-0ec275a10e82"
      },
      "execution_count": null,
      "outputs": [
        {
          "output_type": "execute_result",
          "data": {
            "text/plain": [
              "{2, 3, 4, 5, 6}"
            ]
          },
          "metadata": {},
          "execution_count": 51
        }
      ]
    },
    {
      "cell_type": "markdown",
      "source": [
        "### Set doesn't perform index and slicing"
      ],
      "metadata": {
        "id": "59ixst4fIDwz"
      }
    },
    {
      "cell_type": "markdown",
      "source": [
        "# Condition and Loops"
      ],
      "metadata": {
        "id": "UDKTnpnSI8Mz"
      }
    },
    {
      "cell_type": "code",
      "source": [
        "a = 10\n",
        "if a>10:\n",
        "  print(\"Yes a is greater than 10\")"
      ],
      "metadata": {
        "id": "Qn1lpxzSHjrx"
      },
      "execution_count": null,
      "outputs": []
    },
    {
      "cell_type": "code",
      "source": [
        "a = 15\n",
        "if a >30:\n",
        "  print(\"a is greater than 30\")\n",
        "elif  10< a <30:\n",
        "  print(\"a is btwn 10 and 30\")\n",
        "else:\n",
        "  print(\"a is less than 10\")"
      ],
      "metadata": {
        "colab": {
          "base_uri": "https://localhost:8080/"
        },
        "id": "xKTtXIYDJpHu",
        "outputId": "285c849f-f92c-4a26-fa26-9a9de038984a"
      },
      "execution_count": null,
      "outputs": [
        {
          "output_type": "stream",
          "name": "stdout",
          "text": [
            "a is btwn 10 and 30\n"
          ]
        }
      ]
    },
    {
      "cell_type": "code",
      "source": [
        "input()"
      ],
      "metadata": {
        "colab": {
          "base_uri": "https://localhost:8080/",
          "height": 53
        },
        "id": "8qnbtsqyKZir",
        "outputId": "4e9061f3-77e2-4194-f58e-752b7bb6c5ca"
      },
      "execution_count": null,
      "outputs": [
        {
          "name": "stdout",
          "output_type": "stream",
          "text": [
            "35\n"
          ]
        },
        {
          "output_type": "execute_result",
          "data": {
            "text/plain": [
              "'35'"
            ],
            "application/vnd.google.colaboratory.intrinsic+json": {
              "type": "string"
            }
          },
          "metadata": {},
          "execution_count": 55
        }
      ]
    },
    {
      "cell_type": "markdown",
      "source": [
        "### Input function is used to take input from users"
      ],
      "metadata": {
        "id": "ZYc2W_uoLAht"
      }
    },
    {
      "cell_type": "code",
      "source": [
        "input()\n",
        "if a >30:\n",
        "  print(\"a is greater than 30\")\n",
        "elif  10< a <30:\n",
        "  print(\"a is btwn 10 and 30\")\n",
        "else:\n",
        "  print(\"a is less than 10\")"
      ],
      "metadata": {
        "id": "NJQYEuT0K9NJ",
        "colab": {
          "base_uri": "https://localhost:8080/"
        },
        "outputId": "5c29da87-bf88-4efc-fdc0-28e052a50531"
      },
      "execution_count": null,
      "outputs": [
        {
          "output_type": "stream",
          "name": "stdout",
          "text": [
            "15\n",
            "a is btwn 10 and 30\n"
          ]
        }
      ]
    },
    {
      "cell_type": "markdown",
      "source": [
        "### Problem with input function is that the outcome is string type always you have to convert it into another data type."
      ],
      "metadata": {
        "id": "OPbDkp7tLnTv"
      }
    },
    {
      "cell_type": "code",
      "source": [
        "b = input()"
      ],
      "metadata": {
        "colab": {
          "base_uri": "https://localhost:8080/"
        },
        "id": "JoTInvYTLRkZ",
        "outputId": "d8cf8626-ef0a-4202-f112-4cb5488fb6fa"
      },
      "execution_count": null,
      "outputs": [
        {
          "name": "stdout",
          "output_type": "stream",
          "text": [
            "35\n"
          ]
        }
      ]
    },
    {
      "cell_type": "code",
      "source": [
        "type(b)"
      ],
      "metadata": {
        "colab": {
          "base_uri": "https://localhost:8080/"
        },
        "id": "zG7yxXHaMIKK",
        "outputId": "cb7446a3-bc9d-48ac-f9c2-6d03dd14c2ba"
      },
      "execution_count": null,
      "outputs": [
        {
          "output_type": "execute_result",
          "data": {
            "text/plain": [
              "str"
            ]
          },
          "metadata": {},
          "execution_count": 58
        }
      ]
    },
    {
      "cell_type": "code",
      "source": [
        "b = int(input())"
      ],
      "metadata": {
        "colab": {
          "base_uri": "https://localhost:8080/"
        },
        "id": "-UZpTitWMMDa",
        "outputId": "5dc530d9-1678-47b5-c44e-2491bbe8676f"
      },
      "execution_count": null,
      "outputs": [
        {
          "name": "stdout",
          "output_type": "stream",
          "text": [
            "34\n"
          ]
        }
      ]
    },
    {
      "cell_type": "code",
      "source": [
        "type(b)"
      ],
      "metadata": {
        "colab": {
          "base_uri": "https://localhost:8080/"
        },
        "id": "3D06MWT3MQK0",
        "outputId": "2e69f36f-7217-4ff4-c72c-9ded415a6766"
      },
      "execution_count": null,
      "outputs": [
        {
          "output_type": "execute_result",
          "data": {
            "text/plain": [
              "int"
            ]
          },
          "metadata": {},
          "execution_count": 60
        }
      ]
    },
    {
      "cell_type": "markdown",
      "source": [
        "# While Loop"
      ],
      "metadata": {
        "id": "wySdPzGXMZNT"
      }
    },
    {
      "cell_type": "code",
      "source": [
        "n = 4\n",
        "i = 1\n",
        "while i < n:\n",
        "  print(i)\n",
        "  i = i+1"
      ],
      "metadata": {
        "id": "--BOfvqsMTsy",
        "colab": {
          "base_uri": "https://localhost:8080/"
        },
        "outputId": "8e9ad446-73a5-4edc-fbf9-7df4312117e2"
      },
      "execution_count": null,
      "outputs": [
        {
          "output_type": "stream",
          "name": "stdout",
          "text": [
            "1\n",
            "2\n",
            "3\n"
          ]
        }
      ]
    },
    {
      "cell_type": "code",
      "source": [
        "n = 4\n",
        "i = 1\n",
        "while i < n:\n",
        "  print(i)\n",
        "  i = i + 1\n",
        "else:\n",
        "  print(\"printing completed\")"
      ],
      "metadata": {
        "colab": {
          "base_uri": "https://localhost:8080/"
        },
        "id": "zLyqort1DXi1",
        "outputId": "bfe4021e-68e9-444f-8417-032380708335"
      },
      "execution_count": null,
      "outputs": [
        {
          "output_type": "stream",
          "name": "stdout",
          "text": [
            "1\n",
            "2\n",
            "3\n",
            "printing completed\n"
          ]
        }
      ]
    },
    {
      "cell_type": "code",
      "source": [
        "n = 4\n",
        "i = 1\n",
        "while i < n:\n",
        "  print(i)\n",
        "  i = i + 1\n",
        "  if i == 3:\n",
        "    break\n",
        "else:\n",
        "  print(\"this is my else\")"
      ],
      "metadata": {
        "colab": {
          "base_uri": "https://localhost:8080/"
        },
        "id": "YPBpfLlRFa0N",
        "outputId": "201917a6-601c-4db1-f37f-6afb4a60bfff"
      },
      "execution_count": null,
      "outputs": [
        {
          "output_type": "stream",
          "name": "stdout",
          "text": [
            "1\n",
            "2\n"
          ]
        }
      ]
    },
    {
      "cell_type": "markdown",
      "source": [
        "### Here else is not executed because break is applied before the completion of loop"
      ],
      "metadata": {
        "id": "XiIUcoG-HMUh"
      }
    },
    {
      "cell_type": "markdown",
      "source": [
        "# For Loop"
      ],
      "metadata": {
        "id": "j1VbyCZGHlJR"
      }
    },
    {
      "cell_type": "code",
      "source": [
        "s = \"sudh\"\n",
        "for i in s:\n",
        "  print(i)"
      ],
      "metadata": {
        "colab": {
          "base_uri": "https://localhost:8080/"
        },
        "id": "vZEYMm95GjMj",
        "outputId": "58dc1b85-74cc-449e-90b7-efe74b1ae7a4"
      },
      "execution_count": null,
      "outputs": [
        {
          "output_type": "stream",
          "name": "stdout",
          "text": [
            "s\n",
            "u\n",
            "d\n",
            "h\n"
          ]
        }
      ]
    },
    {
      "cell_type": "code",
      "source": [
        "l = [2,3,4,5,6, \"sudh\" , \"pwskills\", 23.45, True]"
      ],
      "metadata": {
        "id": "z1WOMNpHH7Zs"
      },
      "execution_count": null,
      "outputs": []
    },
    {
      "cell_type": "code",
      "source": [
        "for i in l:\n",
        "  print(type(i))\n",
        "else:\n",
        "  print(\"this will execute ones the for loop is completed\")"
      ],
      "metadata": {
        "colab": {
          "base_uri": "https://localhost:8080/"
        },
        "id": "ATs1uaqBIHdW",
        "outputId": "ff50bb0a-e079-4785-81aa-7fcacc044798"
      },
      "execution_count": null,
      "outputs": [
        {
          "output_type": "stream",
          "name": "stdout",
          "text": [
            "<class 'int'>\n",
            "<class 'int'>\n",
            "<class 'int'>\n",
            "<class 'int'>\n",
            "<class 'int'>\n",
            "<class 'str'>\n",
            "<class 'str'>\n",
            "<class 'float'>\n",
            "<class 'bool'>\n",
            "this will execute ones the for loop is completed\n"
          ]
        }
      ]
    },
    {
      "cell_type": "code",
      "source": [
        "for i in l:\n",
        "  print(type(i))\n",
        "  if i == 6:\n",
        "    break\n",
        "else:\n",
        "  print(\"this will execute once for loop will complete itself\")"
      ],
      "metadata": {
        "colab": {
          "base_uri": "https://localhost:8080/"
        },
        "id": "I3A_wOmoIMoO",
        "outputId": "c4f4cb94-3345-4022-8309-a405cc360219"
      },
      "execution_count": null,
      "outputs": [
        {
          "output_type": "stream",
          "name": "stdout",
          "text": [
            "<class 'int'>\n",
            "<class 'int'>\n",
            "<class 'int'>\n",
            "<class 'int'>\n",
            "<class 'int'>\n"
          ]
        }
      ]
    },
    {
      "cell_type": "code",
      "source": [
        "for i in l:\n",
        "  print(type(i))\n",
        "  if i == 6:\n",
        "    continue\n",
        "    print(i)\n",
        "else:\n",
        "  print(\"this will execute\")"
      ],
      "metadata": {
        "colab": {
          "base_uri": "https://localhost:8080/"
        },
        "id": "kztVMIopJLxJ",
        "outputId": "027d437c-1fd3-4e2a-96a1-d18f4b1f4c2b"
      },
      "execution_count": null,
      "outputs": [
        {
          "output_type": "stream",
          "name": "stdout",
          "text": [
            "<class 'int'>\n",
            "<class 'int'>\n",
            "<class 'int'>\n",
            "<class 'int'>\n",
            "<class 'int'>\n",
            "<class 'str'>\n",
            "<class 'str'>\n",
            "<class 'float'>\n",
            "<class 'bool'>\n",
            "this will execute\n"
          ]
        }
      ]
    },
    {
      "cell_type": "markdown",
      "source": [
        "# Range Function"
      ],
      "metadata": {
        "id": "TCtdGdCzJ_zw"
      }
    },
    {
      "cell_type": "code",
      "source": [
        "range(10)"
      ],
      "metadata": {
        "colab": {
          "base_uri": "https://localhost:8080/"
        },
        "id": "y1hx0Jo2JtqM",
        "outputId": "fed13e3a-c86a-4b3e-c8b2-fdb61032f893"
      },
      "execution_count": null,
      "outputs": [
        {
          "output_type": "execute_result",
          "data": {
            "text/plain": [
              "range(0, 10)"
            ]
          },
          "metadata": {},
          "execution_count": 13
        }
      ]
    },
    {
      "cell_type": "code",
      "source": [
        "list(range(10))"
      ],
      "metadata": {
        "colab": {
          "base_uri": "https://localhost:8080/"
        },
        "id": "y_6OMP6aKF9Z",
        "outputId": "3115d668-3922-42ee-dafd-37643289c214"
      },
      "execution_count": null,
      "outputs": [
        {
          "output_type": "execute_result",
          "data": {
            "text/plain": [
              "[0, 1, 2, 3, 4, 5, 6, 7, 8, 9]"
            ]
          },
          "metadata": {},
          "execution_count": 14
        }
      ]
    },
    {
      "cell_type": "markdown",
      "source": [
        "### To bring data out of range bound it in list"
      ],
      "metadata": {
        "id": "LwM93yW0Kal7"
      }
    },
    {
      "cell_type": "markdown",
      "source": [
        "# Dictionary and Loops"
      ],
      "metadata": {
        "id": "Gti_c-f3LV3r"
      }
    },
    {
      "cell_type": "code",
      "source": [
        "d = {}"
      ],
      "metadata": {
        "id": "W57hkzljKQr1"
      },
      "execution_count": null,
      "outputs": []
    },
    {
      "cell_type": "code",
      "source": [
        "type(d)"
      ],
      "metadata": {
        "colab": {
          "base_uri": "https://localhost:8080/"
        },
        "id": "tHqfo1DzqmPD",
        "outputId": "e88d1320-2ba9-4ef8-8107-5cd1355eca87"
      },
      "execution_count": null,
      "outputs": [
        {
          "output_type": "execute_result",
          "data": {
            "text/plain": [
              "dict"
            ]
          },
          "metadata": {},
          "execution_count": 2
        }
      ]
    },
    {
      "cell_type": "code",
      "source": [
        "d1 = {'key' : \"sudh\"}"
      ],
      "metadata": {
        "id": "UQHx_fRLqq2n"
      },
      "execution_count": null,
      "outputs": []
    },
    {
      "cell_type": "code",
      "source": [
        "type(d1)"
      ],
      "metadata": {
        "colab": {
          "base_uri": "https://localhost:8080/"
        },
        "id": "6MSZljm1q2n8",
        "outputId": "02c4907e-5083-4ee1-96d8-3d7a721f4273"
      },
      "execution_count": null,
      "outputs": [
        {
          "output_type": "execute_result",
          "data": {
            "text/plain": [
              "dict"
            ]
          },
          "metadata": {},
          "execution_count": 5
        }
      ]
    },
    {
      "cell_type": "code",
      "source": [
        "d2 = {\"name\" : \"sudh\", \"age\" : 35, \"email\" : \"vsingh@gmail.com\", \"number\": 2345}"
      ],
      "metadata": {
        "id": "XTfZ3DWsq8tn"
      },
      "execution_count": null,
      "outputs": []
    },
    {
      "cell_type": "code",
      "source": [
        "d2"
      ],
      "metadata": {
        "colab": {
          "base_uri": "https://localhost:8080/"
        },
        "id": "DCIO30YarbYQ",
        "outputId": "45eb51b8-8620-4bbc-d7cd-50f3f09b7ffb"
      },
      "execution_count": null,
      "outputs": [
        {
          "output_type": "execute_result",
          "data": {
            "text/plain": [
              "{'name': 'sudh', 'age': 35, 'email': 'vsingh@gmail.com', 'number': 2345}"
            ]
          },
          "metadata": {},
          "execution_count": 8
        }
      ]
    },
    {
      "cell_type": "code",
      "source": [
        "d3 = {234 : \"sudh\"}"
      ],
      "metadata": {
        "id": "vYc1Hdvormue"
      },
      "execution_count": null,
      "outputs": []
    },
    {
      "cell_type": "code",
      "source": [
        "d3"
      ],
      "metadata": {
        "colab": {
          "base_uri": "https://localhost:8080/"
        },
        "id": "qmXJC_Pnr6g4",
        "outputId": "28b03bf0-7fc7-4b57-d661-e0e49da6e674"
      },
      "execution_count": null,
      "outputs": [
        {
          "output_type": "execute_result",
          "data": {
            "text/plain": [
              "{234: 'sudh'}"
            ]
          },
          "metadata": {},
          "execution_count": 10
        }
      ]
    },
    {
      "cell_type": "code",
      "source": [
        "d4 = {@wer : \"kumar\"}"
      ],
      "metadata": {
        "colab": {
          "base_uri": "https://localhost:8080/",
          "height": 133
        },
        "id": "97vcwX2Br9AN",
        "outputId": "d502caa5-b1cd-4122-e240-dac7a5688df9"
      },
      "execution_count": null,
      "outputs": [
        {
          "output_type": "error",
          "ename": "SyntaxError",
          "evalue": "ignored",
          "traceback": [
            "\u001b[0;36m  File \u001b[0;32m\"<ipython-input-11-aa3d62145509>\"\u001b[0;36m, line \u001b[0;32m1\u001b[0m\n\u001b[0;31m    d4 = {@wer : \"kumar\"}\u001b[0m\n\u001b[0m          ^\u001b[0m\n\u001b[0;31mSyntaxError\u001b[0m\u001b[0;31m:\u001b[0m invalid syntax\n"
          ]
        }
      ]
    },
    {
      "cell_type": "code",
      "source": [
        "d4 = {\"@wer\" : \"kumar\"}"
      ],
      "metadata": {
        "id": "9wWwGXGLsHrY"
      },
      "execution_count": null,
      "outputs": []
    },
    {
      "cell_type": "code",
      "source": [
        "d4"
      ],
      "metadata": {
        "colab": {
          "base_uri": "https://localhost:8080/"
        },
        "id": "_dh09_LIsj0y",
        "outputId": "205677ea-b49e-45d1-a178-67d4b330cc6a"
      },
      "execution_count": null,
      "outputs": [
        {
          "output_type": "execute_result",
          "data": {
            "text/plain": [
              "{'@wer': 'kumar'}"
            ]
          },
          "metadata": {},
          "execution_count": 13
        }
      ]
    },
    {
      "cell_type": "markdown",
      "source": [
        "### especial character cannot be taken as key for dictionary and (\"\") double quote can be used for taking special character."
      ],
      "metadata": {
        "id": "fjsYyYy0sudk"
      }
    },
    {
      "cell_type": "code",
      "source": [
        "d7 = {True : 2345}"
      ],
      "metadata": {
        "id": "QClmaAn_slFy"
      },
      "execution_count": null,
      "outputs": []
    },
    {
      "cell_type": "code",
      "source": [
        "d7[True]"
      ],
      "metadata": {
        "colab": {
          "base_uri": "https://localhost:8080/"
        },
        "id": "Ip-2TIM-tfYO",
        "outputId": "c1ded7fe-ac3f-433d-90ff-ed93cae05314"
      },
      "execution_count": null,
      "outputs": [
        {
          "output_type": "execute_result",
          "data": {
            "text/plain": [
              "2345"
            ]
          },
          "metadata": {},
          "execution_count": 17
        }
      ]
    },
    {
      "cell_type": "markdown",
      "source": [
        "### String, numeric, boolean, are allowed special character are allowed inside a double quote"
      ],
      "metadata": {
        "id": "tP1n8Mxit9HK"
      }
    },
    {
      "cell_type": "code",
      "source": [
        "d7[1]"
      ],
      "metadata": {
        "colab": {
          "base_uri": "https://localhost:8080/"
        },
        "id": "p9aWkAAMtkic",
        "outputId": "b58bca20-f48d-47cd-a681-78bd7c4177bb"
      },
      "execution_count": null,
      "outputs": [
        {
          "output_type": "execute_result",
          "data": {
            "text/plain": [
              "2345"
            ]
          },
          "metadata": {},
          "execution_count": 18
        }
      ]
    },
    {
      "cell_type": "code",
      "source": [
        "d8 = {\"name\" : \"sudh\" , \"mail_id\" : \"s@gmail.com\" , \"name\" : \"sudhanshu\"}"
      ],
      "metadata": {
        "id": "RFPOMgDyuisd"
      },
      "execution_count": null,
      "outputs": []
    },
    {
      "cell_type": "code",
      "source": [
        "d8[\"name\"]"
      ],
      "metadata": {
        "colab": {
          "base_uri": "https://localhost:8080/",
          "height": 35
        },
        "id": "GvFgPJ1WuqO9",
        "outputId": "15a47cb0-466b-4d4c-c186-27a44c641fd7"
      },
      "execution_count": null,
      "outputs": [
        {
          "output_type": "execute_result",
          "data": {
            "text/plain": [
              "'sudhanshu'"
            ],
            "application/vnd.google.colaboratory.intrinsic+json": {
              "type": "string"
            }
          },
          "metadata": {},
          "execution_count": 20
        }
      ]
    },
    {
      "cell_type": "code",
      "source": [
        "d9 = {\"company\" : \"pwskills\" , \"course\" : [\"webdev\", \"data science\", \"java with dsa system design\"] }"
      ],
      "metadata": {
        "id": "9n48xSj9utfU"
      },
      "execution_count": null,
      "outputs": []
    },
    {
      "cell_type": "code",
      "source": [
        "d9[\"course\"][2]"
      ],
      "metadata": {
        "colab": {
          "base_uri": "https://localhost:8080/",
          "height": 35
        },
        "id": "GSDfKAiWvKF6",
        "outputId": "9e43379e-2689-42df-f3b8-f29e5b44d875"
      },
      "execution_count": null,
      "outputs": [
        {
          "output_type": "execute_result",
          "data": {
            "text/plain": [
              "'java with dsa system design'"
            ],
            "application/vnd.google.colaboratory.intrinsic+json": {
              "type": "string"
            }
          },
          "metadata": {},
          "execution_count": 22
        }
      ]
    },
    {
      "cell_type": "markdown",
      "source": [
        "### As a value of key we can put list data also."
      ],
      "metadata": {
        "id": "ZwssFXCivjBW"
      }
    },
    {
      "cell_type": "code",
      "source": [
        "d10 = {\"number\" : [2,34,3,34,34], \"assignment\" : (1,2,3,4,5,6) , \"launch_date\" : {28,12,14}, \"class_time\" : {\"web_dev\" : 8, \"data science\" : 8, \"java with dsa\" : 7}}"
      ],
      "metadata": {
        "id": "U8QfGcRJveDo"
      },
      "execution_count": null,
      "outputs": []
    },
    {
      "cell_type": "code",
      "source": [
        "d10"
      ],
      "metadata": {
        "colab": {
          "base_uri": "https://localhost:8080/"
        },
        "id": "yJlUlTOhwIZA",
        "outputId": "ddeffef3-565c-4f06-e57d-22d46db10d31"
      },
      "execution_count": null,
      "outputs": [
        {
          "output_type": "execute_result",
          "data": {
            "text/plain": [
              "{'number': [2, 34, 3, 34, 34],\n",
              " 'assignment': (1, 2, 3, 4, 5, 6),\n",
              " 'launch_date': {12, 14, 28},\n",
              " 'class_time': {'web_dev': 8, 'data science': 8, 'java with dsa': 7}}"
            ]
          },
          "metadata": {},
          "execution_count": 24
        }
      ]
    },
    {
      "cell_type": "markdown",
      "source": [
        "#### List, Tuples, Set, Dictionary can be stored inside a dictionary"
      ],
      "metadata": {
        "id": "hWHEJwHawVFL"
      }
    },
    {
      "cell_type": "markdown",
      "source": [
        "#### Adding a new key value pair to existing dictionary."
      ],
      "metadata": {
        "id": "ngalnvKPxLDy"
      }
    },
    {
      "cell_type": "code",
      "source": [
        "d10[\"mentor\"] = [\"sudh\", \"krish\", \"anurag\", \"hayder\"]"
      ],
      "metadata": {
        "id": "8PXxluhQwNGF"
      },
      "execution_count": null,
      "outputs": []
    },
    {
      "cell_type": "code",
      "source": [
        "d10"
      ],
      "metadata": {
        "colab": {
          "base_uri": "https://localhost:8080/"
        },
        "id": "wHIaTsPiw22k",
        "outputId": "a985ad26-10b2-4c8e-ec4d-63d1e03c6061"
      },
      "execution_count": null,
      "outputs": [
        {
          "output_type": "execute_result",
          "data": {
            "text/plain": [
              "{'number': [2, 34, 3, 34, 34],\n",
              " 'assignment': (1, 2, 3, 4, 5, 6),\n",
              " 'launch_date': {12, 14, 28},\n",
              " 'class_time': {'web_dev': 8, 'data science': 8, 'java with dsa': 7},\n",
              " 'mentor': ['sudh', 'krish', 'anurag', 'hayder']}"
            ]
          },
          "metadata": {},
          "execution_count": 26
        }
      ]
    },
    {
      "cell_type": "code",
      "source": [
        "del d10['number']"
      ],
      "metadata": {
        "id": "MTxIbIEFw5Sp"
      },
      "execution_count": null,
      "outputs": []
    },
    {
      "cell_type": "code",
      "source": [
        "d10"
      ],
      "metadata": {
        "colab": {
          "base_uri": "https://localhost:8080/"
        },
        "id": "JcYcNu403TQy",
        "outputId": "ebf121c3-32bf-489f-fed3-fb9a552744e9"
      },
      "execution_count": null,
      "outputs": [
        {
          "output_type": "execute_result",
          "data": {
            "text/plain": [
              "{'assignment': (1, 2, 3, 4, 5, 6),\n",
              " 'launch_date': {12, 14, 28},\n",
              " 'class_time': {'web_dev': 8, 'data science': 8, 'java with dsa': 7},\n",
              " 'mentor': ['sudh', 'krish', 'anurag', 'hayder']}"
            ]
          },
          "metadata": {},
          "execution_count": 28
        }
      ]
    },
    {
      "cell_type": "code",
      "source": [
        "list(d10.keys())"
      ],
      "metadata": {
        "colab": {
          "base_uri": "https://localhost:8080/"
        },
        "id": "6PEXufaw3ZrV",
        "outputId": "7b6ba726-3e90-4148-ace3-f351c286d6f1"
      },
      "execution_count": null,
      "outputs": [
        {
          "output_type": "execute_result",
          "data": {
            "text/plain": [
              "['assignment', 'launch_date', 'class_time', 'mentor']"
            ]
          },
          "metadata": {},
          "execution_count": 29
        }
      ]
    },
    {
      "cell_type": "markdown",
      "source": [
        "# Control Flow"
      ],
      "metadata": {
        "id": "ZBEg9G535cuS"
      }
    },
    {
      "cell_type": "code",
      "source": [
        "l = [1,2,3,4,5,6,7,8]"
      ],
      "metadata": {
        "id": "fU6frLsX3siN"
      },
      "execution_count": null,
      "outputs": []
    },
    {
      "cell_type": "code",
      "source": [
        "l1 = []\n",
        "for i in l:\n",
        "  print(i+1)\n",
        "  l1.append(i+1)\n",
        "l1"
      ],
      "metadata": {
        "colab": {
          "base_uri": "https://localhost:8080/"
        },
        "id": "5zngSVDt6V24",
        "outputId": "d154c5dd-e3ca-4c1c-ffdf-572f0eb66da4"
      },
      "execution_count": null,
      "outputs": [
        {
          "output_type": "stream",
          "name": "stdout",
          "text": [
            "2\n",
            "3\n",
            "4\n",
            "5\n",
            "6\n",
            "7\n",
            "8\n",
            "9\n"
          ]
        },
        {
          "output_type": "execute_result",
          "data": {
            "text/plain": [
              "[2, 3, 4, 5, 6, 7, 8, 9]"
            ]
          },
          "metadata": {},
          "execution_count": 33
        }
      ]
    },
    {
      "cell_type": "markdown",
      "source": [
        "# Functions"
      ],
      "metadata": {
        "id": "5ABoO_abyvzd"
      }
    },
    {
      "cell_type": "code",
      "source": [
        "print(\"Hello world!\")"
      ],
      "metadata": {
        "id": "5HMJ-07F6ec8",
        "colab": {
          "base_uri": "https://localhost:8080/"
        },
        "outputId": "abf22ab7-aeb3-407d-9cb9-9e8e897a6f77"
      },
      "execution_count": null,
      "outputs": [
        {
          "output_type": "stream",
          "name": "stdout",
          "text": [
            "Hello world!\n"
          ]
        }
      ]
    },
    {
      "cell_type": "code",
      "source": [
        "l = [324, 45, 65]"
      ],
      "metadata": {
        "id": "USAluHpRy33i"
      },
      "execution_count": null,
      "outputs": []
    },
    {
      "cell_type": "code",
      "source": [
        "type(l)"
      ],
      "metadata": {
        "colab": {
          "base_uri": "https://localhost:8080/"
        },
        "id": "vDiC4XLyy_gC",
        "outputId": "c0e46fbe-3d33-4da3-c40d-7d8f92b662b7"
      },
      "execution_count": null,
      "outputs": [
        {
          "output_type": "execute_result",
          "data": {
            "text/plain": [
              "list"
            ]
          },
          "metadata": {},
          "execution_count": 3
        }
      ]
    },
    {
      "cell_type": "code",
      "source": [
        "len(l)"
      ],
      "metadata": {
        "colab": {
          "base_uri": "https://localhost:8080/"
        },
        "id": "IgA7z5QozBVw",
        "outputId": "bfa5e339-cfbd-4292-8ed2-e2ba236d27d6"
      },
      "execution_count": null,
      "outputs": [
        {
          "output_type": "execute_result",
          "data": {
            "text/plain": [
              "3"
            ]
          },
          "metadata": {},
          "execution_count": 4
        }
      ]
    },
    {
      "cell_type": "code",
      "source": [
        "def test():\n",
        "  pass"
      ],
      "metadata": {
        "id": "V6JCmGzzzH4s"
      },
      "execution_count": null,
      "outputs": []
    },
    {
      "cell_type": "code",
      "source": [
        "type(test)"
      ],
      "metadata": {
        "colab": {
          "base_uri": "https://localhost:8080/"
        },
        "id": "MBKxlBcIzT8t",
        "outputId": "ea391b50-b83f-455a-cfe3-df6503807b42"
      },
      "execution_count": null,
      "outputs": [
        {
          "output_type": "execute_result",
          "data": {
            "text/plain": [
              "function"
            ]
          },
          "metadata": {},
          "execution_count": 7
        }
      ]
    },
    {
      "cell_type": "markdown",
      "source": [
        "### For creating a function use (def) keyword"
      ],
      "metadata": {
        "id": "cUQ98ZPAzue8"
      }
    },
    {
      "cell_type": "code",
      "source": [
        "def test1():\n",
        "  print(\"print this is my very fist function\")"
      ],
      "metadata": {
        "id": "aQdzwvFnzWOa"
      },
      "execution_count": null,
      "outputs": []
    },
    {
      "cell_type": "code",
      "source": [
        "test1"
      ],
      "metadata": {
        "colab": {
          "base_uri": "https://localhost:8080/"
        },
        "id": "QBzrCpa-0GPR",
        "outputId": "84c6769c-146a-44bb-b370-e73cd4433e60"
      },
      "execution_count": null,
      "outputs": [
        {
          "output_type": "execute_result",
          "data": {
            "text/plain": [
              "<function __main__.test1()>"
            ]
          },
          "metadata": {},
          "execution_count": 9
        }
      ]
    },
    {
      "cell_type": "code",
      "source": [
        "test1()"
      ],
      "metadata": {
        "colab": {
          "base_uri": "https://localhost:8080/"
        },
        "id": "4kopwdf60I1M",
        "outputId": "076e6d90-73a3-442c-d289-e33321fdae3b"
      },
      "execution_count": null,
      "outputs": [
        {
          "output_type": "stream",
          "name": "stdout",
          "text": [
            "print this is my very fist function\n"
          ]
        }
      ]
    },
    {
      "cell_type": "markdown",
      "source": [
        "### Your whole function is test1() if you don't put parenthesis it will not show the result"
      ],
      "metadata": {
        "id": "jBXfFeYA0XMw"
      }
    },
    {
      "cell_type": "code",
      "source": [
        "test1() + \"sudh\""
      ],
      "metadata": {
        "colab": {
          "base_uri": "https://localhost:8080/",
          "height": 222
        },
        "id": "l62usThi0VW-",
        "outputId": "43c8bc19-6b96-46d5-cbc6-6b1d1bca7daa"
      },
      "execution_count": null,
      "outputs": [
        {
          "output_type": "stream",
          "name": "stdout",
          "text": [
            "print this is my very fist function\n"
          ]
        },
        {
          "output_type": "error",
          "ename": "TypeError",
          "evalue": "ignored",
          "traceback": [
            "\u001b[0;31m---------------------------------------------------------------------------\u001b[0m",
            "\u001b[0;31mTypeError\u001b[0m                                 Traceback (most recent call last)",
            "\u001b[0;32m<ipython-input-11-c489b53accba>\u001b[0m in \u001b[0;36m<cell line: 1>\u001b[0;34m()\u001b[0m\n\u001b[0;32m----> 1\u001b[0;31m \u001b[0mtest1\u001b[0m\u001b[0;34m(\u001b[0m\u001b[0;34m)\u001b[0m \u001b[0;34m+\u001b[0m \u001b[0;34m\"sudh\"\u001b[0m\u001b[0;34m\u001b[0m\u001b[0;34m\u001b[0m\u001b[0m\n\u001b[0m",
            "\u001b[0;31mTypeError\u001b[0m: unsupported operand type(s) for +: 'NoneType' and 'str'"
          ]
        }
      ]
    },
    {
      "cell_type": "code",
      "source": [
        "type(print())"
      ],
      "metadata": {
        "colab": {
          "base_uri": "https://localhost:8080/"
        },
        "id": "hpXY_C7x1YTZ",
        "outputId": "ddad641a-1506-425d-abfe-5f89d1b7b4db"
      },
      "execution_count": null,
      "outputs": [
        {
          "output_type": "stream",
          "name": "stdout",
          "text": [
            "\n"
          ]
        },
        {
          "output_type": "execute_result",
          "data": {
            "text/plain": [
              "NoneType"
            ]
          },
          "metadata": {},
          "execution_count": 13
        }
      ]
    },
    {
      "cell_type": "markdown",
      "source": [
        "## Print() function return [none data type] so concatenation can't be possible with this data type instead return function give output same data type as provided in input."
      ],
      "metadata": {
        "id": "CJO38ltQ1h8c"
      }
    },
    {
      "cell_type": "code",
      "source": [
        "def test2():\n",
        "  return \"this is my very first return\""
      ],
      "metadata": {
        "id": "C_ikT2Pl1cC3"
      },
      "execution_count": null,
      "outputs": []
    },
    {
      "cell_type": "code",
      "source": [
        "test2()"
      ],
      "metadata": {
        "colab": {
          "base_uri": "https://localhost:8080/",
          "height": 35
        },
        "id": "_NWfeugH2dF-",
        "outputId": "2e44697e-f7c0-4073-d446-25181b846202"
      },
      "execution_count": null,
      "outputs": [
        {
          "output_type": "execute_result",
          "data": {
            "text/plain": [
              "'this is my very first return'"
            ],
            "application/vnd.google.colaboratory.intrinsic+json": {
              "type": "string"
            }
          },
          "metadata": {},
          "execution_count": 15
        }
      ]
    },
    {
      "cell_type": "code",
      "source": [
        "test2() + \"sudh\""
      ],
      "metadata": {
        "colab": {
          "base_uri": "https://localhost:8080/",
          "height": 35
        },
        "id": "pvGapoWl2fg6",
        "outputId": "4ee7fae1-e839-4cc4-a28d-a70a879a1ced"
      },
      "execution_count": null,
      "outputs": [
        {
          "output_type": "execute_result",
          "data": {
            "text/plain": [
              "'this is my very first returnsudh'"
            ],
            "application/vnd.google.colaboratory.intrinsic+json": {
              "type": "string"
            }
          },
          "metadata": {},
          "execution_count": 16
        }
      ]
    },
    {
      "cell_type": "code",
      "source": [
        "test2() + \" sudh\""
      ],
      "metadata": {
        "colab": {
          "base_uri": "https://localhost:8080/",
          "height": 35
        },
        "id": "9lLMKpLF2oZw",
        "outputId": "f7a09063-e943-483f-f4ba-9ca857506218"
      },
      "execution_count": null,
      "outputs": [
        {
          "output_type": "execute_result",
          "data": {
            "text/plain": [
              "'this is my very first return sudh'"
            ],
            "application/vnd.google.colaboratory.intrinsic+json": {
              "type": "string"
            }
          },
          "metadata": {},
          "execution_count": 17
        }
      ]
    },
    {
      "cell_type": "code",
      "source": [
        "test2() + \" \" + \"sudh\""
      ],
      "metadata": {
        "colab": {
          "base_uri": "https://localhost:8080/",
          "height": 35
        },
        "id": "y-j0m_7U2tmY",
        "outputId": "2f588416-e9d6-4bcf-81ce-aefe06144752"
      },
      "execution_count": null,
      "outputs": [
        {
          "output_type": "execute_result",
          "data": {
            "text/plain": [
              "'this is my very first return sudh'"
            ],
            "application/vnd.google.colaboratory.intrinsic+json": {
              "type": "string"
            }
          },
          "metadata": {},
          "execution_count": 19
        }
      ]
    },
    {
      "cell_type": "markdown",
      "source": [
        "### This is how you can provide space while concatenation"
      ],
      "metadata": {
        "id": "ZB5yh-_q246a"
      }
    },
    {
      "cell_type": "code",
      "source": [
        "def test3():\n",
        "  return \"sudh\", 23, 345.65, [1,2,3,4]"
      ],
      "metadata": {
        "id": "JtnRLMcV2zUg"
      },
      "execution_count": null,
      "outputs": []
    },
    {
      "cell_type": "code",
      "source": [
        "test3()"
      ],
      "metadata": {
        "colab": {
          "base_uri": "https://localhost:8080/"
        },
        "id": "2BxyaA7D3J6X",
        "outputId": "39a16379-9ab6-4de4-d674-cebdede0441f"
      },
      "execution_count": null,
      "outputs": [
        {
          "output_type": "execute_result",
          "data": {
            "text/plain": [
              "('sudh', 23, 345.65, [1, 2, 3, 4])"
            ]
          },
          "metadata": {},
          "execution_count": 22
        }
      ]
    },
    {
      "cell_type": "code",
      "source": [
        "a,b,c,d = test3()"
      ],
      "metadata": {
        "id": "hjLhKq4L3LZm"
      },
      "execution_count": null,
      "outputs": []
    },
    {
      "cell_type": "code",
      "source": [
        "a"
      ],
      "metadata": {
        "colab": {
          "base_uri": "https://localhost:8080/",
          "height": 35
        },
        "id": "_V5f2PqL3Vlr",
        "outputId": "9ac29d57-081f-4b9e-ff3d-748fa9c42844"
      },
      "execution_count": null,
      "outputs": [
        {
          "output_type": "execute_result",
          "data": {
            "text/plain": [
              "'sudh'"
            ],
            "application/vnd.google.colaboratory.intrinsic+json": {
              "type": "string"
            }
          },
          "metadata": {},
          "execution_count": 24
        }
      ]
    },
    {
      "cell_type": "code",
      "source": [
        "b"
      ],
      "metadata": {
        "colab": {
          "base_uri": "https://localhost:8080/"
        },
        "id": "XUotfl6U3Xoa",
        "outputId": "9edf09c4-9cfe-4399-b0a4-6e9981c1f51d"
      },
      "execution_count": null,
      "outputs": [
        {
          "output_type": "execute_result",
          "data": {
            "text/plain": [
              "23"
            ]
          },
          "metadata": {},
          "execution_count": 25
        }
      ]
    },
    {
      "cell_type": "code",
      "source": [
        "c"
      ],
      "metadata": {
        "colab": {
          "base_uri": "https://localhost:8080/"
        },
        "id": "8-c85HcW3Yu_",
        "outputId": "8684c64d-42cb-4a02-e49f-c820113da1c6"
      },
      "execution_count": null,
      "outputs": [
        {
          "output_type": "execute_result",
          "data": {
            "text/plain": [
              "345.65"
            ]
          },
          "metadata": {},
          "execution_count": 26
        }
      ]
    },
    {
      "cell_type": "code",
      "source": [
        "d"
      ],
      "metadata": {
        "colab": {
          "base_uri": "https://localhost:8080/"
        },
        "id": "bAjs3lEV3ZZj",
        "outputId": "998789b4-2e8e-4eaa-f2f2-57ef2ae86fb3"
      },
      "execution_count": null,
      "outputs": [
        {
          "output_type": "execute_result",
          "data": {
            "text/plain": [
              "[1, 2, 3, 4]"
            ]
          },
          "metadata": {},
          "execution_count": 27
        }
      ]
    },
    {
      "cell_type": "code",
      "source": [
        "def test4():\n",
        "  a = 5+6/7\n",
        "  return a"
      ],
      "metadata": {
        "id": "C-E1lfk63aCK"
      },
      "execution_count": null,
      "outputs": []
    },
    {
      "cell_type": "code",
      "source": [
        "test4()"
      ],
      "metadata": {
        "colab": {
          "base_uri": "https://localhost:8080/"
        },
        "id": "Ys5o19R97t2l",
        "outputId": "059e97cb-11d6-4b9b-ae5a-4f5d74dfd2f5"
      },
      "execution_count": null,
      "outputs": [
        {
          "output_type": "execute_result",
          "data": {
            "text/plain": [
              "5.857142857142857"
            ]
          },
          "metadata": {},
          "execution_count": 29
        }
      ]
    },
    {
      "cell_type": "code",
      "source": [
        "def test5(a,b,c):\n",
        "  d = a + b/ c\n",
        "  return d"
      ],
      "metadata": {
        "id": "rnTx3e7c7xE9"
      },
      "execution_count": null,
      "outputs": []
    },
    {
      "cell_type": "code",
      "source": [
        "test5()"
      ],
      "metadata": {
        "colab": {
          "base_uri": "https://localhost:8080/",
          "height": 294
        },
        "id": "b5317LM48CPM",
        "outputId": "df20ec46-463c-479a-a3c0-6ee79879bede"
      },
      "execution_count": null,
      "outputs": [
        {
          "output_type": "error",
          "ename": "TypeError",
          "evalue": "ignored",
          "traceback": [
            "\u001b[0;31m---------------------------------------------------------------------------\u001b[0m",
            "\u001b[0;31mTypeError\u001b[0m                                 Traceback (most recent call last)",
            "\u001b[0;32m<ipython-input-32-71ddc826dc0f>\u001b[0m in \u001b[0;36m<cell line: 1>\u001b[0;34m()\u001b[0m\n\u001b[0;32m----> 1\u001b[0;31m \u001b[0mtest5\u001b[0m\u001b[0;34m(\u001b[0m\u001b[0;34m)\u001b[0m\u001b[0;34m\u001b[0m\u001b[0;34m\u001b[0m\u001b[0m\n\u001b[0m",
            "\u001b[0;32m<ipython-input-30-5b7e31bf9994>\u001b[0m in \u001b[0;36mtest5\u001b[0;34m()\u001b[0m\n\u001b[1;32m      1\u001b[0m \u001b[0;32mdef\u001b[0m \u001b[0mtest5\u001b[0m\u001b[0;34m(\u001b[0m\u001b[0;34m)\u001b[0m\u001b[0;34m:\u001b[0m\u001b[0;34m\u001b[0m\u001b[0;34m\u001b[0m\u001b[0m\n\u001b[0;32m----> 2\u001b[0;31m   \u001b[0md\u001b[0m \u001b[0;34m=\u001b[0m \u001b[0ma\u001b[0m\u001b[0;34m+\u001b[0m\u001b[0mb\u001b[0m\u001b[0;34m/\u001b[0m\u001b[0mc\u001b[0m\u001b[0;34m\u001b[0m\u001b[0;34m\u001b[0m\u001b[0m\n\u001b[0m\u001b[1;32m      3\u001b[0m   \u001b[0;32mreturn\u001b[0m \u001b[0md\u001b[0m\u001b[0;34m\u001b[0m\u001b[0;34m\u001b[0m\u001b[0m\n",
            "\u001b[0;31mTypeError\u001b[0m: can only concatenate str (not \"float\") to str"
          ]
        }
      ]
    },
    {
      "cell_type": "code",
      "source": [
        "test5(2,3,5)"
      ],
      "metadata": {
        "colab": {
          "base_uri": "https://localhost:8080/"
        },
        "id": "2hiIYBMb8Gch",
        "outputId": "f62c3f2f-4fd7-449a-d815-52f2a314a5c9"
      },
      "execution_count": null,
      "outputs": [
        {
          "output_type": "execute_result",
          "data": {
            "text/plain": [
              "2.6"
            ]
          },
          "metadata": {},
          "execution_count": 35
        }
      ]
    },
    {
      "cell_type": "code",
      "source": [
        "def test6(a,b):\n",
        "  return a + b\n"
      ],
      "metadata": {
        "id": "GqX6Zglx9Oy1"
      },
      "execution_count": null,
      "outputs": []
    },
    {
      "cell_type": "code",
      "source": [
        "test6(3,4)"
      ],
      "metadata": {
        "colab": {
          "base_uri": "https://localhost:8080/"
        },
        "id": "uxcKwrKc-btr",
        "outputId": "cacee333-bc69-4e9e-f546-845bde5c43b1"
      },
      "execution_count": null,
      "outputs": [
        {
          "output_type": "execute_result",
          "data": {
            "text/plain": [
              "7"
            ]
          },
          "metadata": {},
          "execution_count": 37
        }
      ]
    },
    {
      "cell_type": "code",
      "source": [
        "test6(\"vrij\", \"raj\")"
      ],
      "metadata": {
        "colab": {
          "base_uri": "https://localhost:8080/",
          "height": 35
        },
        "id": "fDEYA7z0-foP",
        "outputId": "e879f223-b610-4a90-f75e-737f5bb19531"
      },
      "execution_count": null,
      "outputs": [
        {
          "output_type": "execute_result",
          "data": {
            "text/plain": [
              "'vrijraj'"
            ],
            "application/vnd.google.colaboratory.intrinsic+json": {
              "type": "string"
            }
          },
          "metadata": {},
          "execution_count": 38
        }
      ]
    },
    {
      "cell_type": "code",
      "source": [
        "test6([1,2,3,4,5], [6,7,8,9])"
      ],
      "metadata": {
        "colab": {
          "base_uri": "https://localhost:8080/"
        },
        "id": "SONL-TMq-kXF",
        "outputId": "ea1619d7-4753-49ce-987e-f28f9b9268cf"
      },
      "execution_count": null,
      "outputs": [
        {
          "output_type": "execute_result",
          "data": {
            "text/plain": [
              "[1, 2, 3, 4, 5, 6, 7, 8, 9]"
            ]
          },
          "metadata": {},
          "execution_count": 39
        }
      ]
    },
    {
      "cell_type": "markdown",
      "source": [
        "### Reusability of function can be increased by creating function ones in prior."
      ],
      "metadata": {
        "id": "v37l5U_R-wjg"
      }
    },
    {
      "cell_type": "code",
      "source": [
        "l = [1,2,3,4, \"sudh\", \"kumar\", [1,2,3,4,5,6]]"
      ],
      "metadata": {
        "id": "pImBIcnt-tTo"
      },
      "execution_count": null,
      "outputs": []
    },
    {
      "cell_type": "code",
      "source": [
        "l1 = []\n",
        "for i in l:\n",
        "  if type(i) == int or type(i) == float:\n",
        "    l1.append(i)"
      ],
      "metadata": {
        "id": "aBm59u1l_LIt"
      },
      "execution_count": null,
      "outputs": []
    },
    {
      "cell_type": "code",
      "source": [
        "l1"
      ],
      "metadata": {
        "colab": {
          "base_uri": "https://localhost:8080/"
        },
        "id": "PflInwn9_h_q",
        "outputId": "72b990ec-3ba2-4ba5-ec36-86cc9d6e009f"
      },
      "execution_count": null,
      "outputs": [
        {
          "output_type": "execute_result",
          "data": {
            "text/plain": [
              "[1, 2, 3, 4]"
            ]
          },
          "metadata": {},
          "execution_count": 42
        }
      ]
    },
    {
      "cell_type": "markdown",
      "source": [
        "Performing same code with the help of functions"
      ],
      "metadata": {
        "id": "eoMB9LUW_y33"
      }
    },
    {
      "cell_type": "code",
      "source": [
        "def test7(l):\n",
        "  l1 = []\n",
        "  for i in l:\n",
        "         if type(i) == int or type(i) == float:\n",
        "          l1.append(i)\n",
        "  return l1"
      ],
      "metadata": {
        "id": "DDHsadFk_iz0"
      },
      "execution_count": null,
      "outputs": []
    },
    {
      "cell_type": "code",
      "source": [
        "test7(l)"
      ],
      "metadata": {
        "colab": {
          "base_uri": "https://localhost:8080/"
        },
        "id": "C8eQMXbHAUYN",
        "outputId": "c98764a0-f1a9-46cf-c23f-265cbb72c93e"
      },
      "execution_count": null,
      "outputs": [
        {
          "output_type": "execute_result",
          "data": {
            "text/plain": [
              "[1, 2, 3, 4]"
            ]
          },
          "metadata": {},
          "execution_count": 60
        }
      ]
    },
    {
      "cell_type": "code",
      "source": [
        "def test8(l):\n",
        "  \"\"\"this is my function to extract num data from list\"\"\"\n",
        "  l2 = []\n",
        "  for i in l:\n",
        "    if type(i) == list:\n",
        "        for j in i:\n",
        "            l2.append(j)\n",
        "    else:\n",
        "      if type(i) == int or type(i) == float:\n",
        "          l2.append(i)\n",
        "  return l2"
      ],
      "metadata": {
        "id": "PGBv33IhAfOx"
      },
      "execution_count": null,
      "outputs": []
    },
    {
      "cell_type": "code",
      "source": [
        "test8(l)"
      ],
      "metadata": {
        "colab": {
          "base_uri": "https://localhost:8080/"
        },
        "id": "m5ZW0U4DFsb1",
        "outputId": "50dbfdc6-a866-40b2-f4a8-447f2cb337b5"
      },
      "execution_count": null,
      "outputs": [
        {
          "output_type": "execute_result",
          "data": {
            "text/plain": [
              "[1, 2, 3, 4, 1, 2, 3, 4, 5, 6]"
            ]
          },
          "metadata": {},
          "execution_count": 64
        }
      ]
    },
    {
      "cell_type": "markdown",
      "source": [
        "\"\"\"TEXT\"\"\" triple apostrophe is used to write docstring of a function."
      ],
      "metadata": {
        "id": "IWlL-K86GdHL"
      }
    },
    {
      "cell_type": "code",
      "source": [
        "def test10(a, b):\n",
        "  return a+b"
      ],
      "metadata": {
        "id": "OnPTQDdJFxqb"
      },
      "execution_count": null,
      "outputs": []
    },
    {
      "cell_type": "code",
      "source": [
        "def test11(*args):\n",
        "  return args"
      ],
      "metadata": {
        "id": "va-y38ZHKpwF"
      },
      "execution_count": null,
      "outputs": []
    },
    {
      "cell_type": "code",
      "source": [
        "type(test11())"
      ],
      "metadata": {
        "colab": {
          "base_uri": "https://localhost:8080/"
        },
        "id": "vMrOdcjBK070",
        "outputId": "fc2da501-4707-4d0b-b889-38e78dd2ecb7"
      },
      "execution_count": null,
      "outputs": [
        {
          "output_type": "execute_result",
          "data": {
            "text/plain": [
              "tuple"
            ]
          },
          "metadata": {},
          "execution_count": 69
        }
      ]
    },
    {
      "cell_type": "code",
      "source": [
        "test11(1,2,3)"
      ],
      "metadata": {
        "colab": {
          "base_uri": "https://localhost:8080/"
        },
        "id": "maKsJLwULG7d",
        "outputId": "b539eada-03ed-4683-dcb5-34cffaf6b33f"
      },
      "execution_count": null,
      "outputs": [
        {
          "output_type": "execute_result",
          "data": {
            "text/plain": [
              "(1, 2, 3)"
            ]
          },
          "metadata": {},
          "execution_count": 70
        }
      ]
    },
    {
      "cell_type": "markdown",
      "source": [
        "(*) steric represent that n number of data can be passed through if provided in argument"
      ],
      "metadata": {
        "id": "wAs3LDgiLPKU"
      }
    },
    {
      "cell_type": "code",
      "source": [
        "def test13(*args, a):\n",
        "    return args , a"
      ],
      "metadata": {
        "id": "D-e16pi_LLQy"
      },
      "execution_count": null,
      "outputs": []
    },
    {
      "cell_type": "code",
      "source": [
        "test13(1,2,3,4)"
      ],
      "metadata": {
        "colab": {
          "base_uri": "https://localhost:8080/",
          "height": 204
        },
        "id": "R8temhmqLux8",
        "outputId": "53f613b9-1cab-4187-9fe2-6beb347f6234"
      },
      "execution_count": null,
      "outputs": [
        {
          "output_type": "error",
          "ename": "TypeError",
          "evalue": "ignored",
          "traceback": [
            "\u001b[0;31m---------------------------------------------------------------------------\u001b[0m",
            "\u001b[0;31mTypeError\u001b[0m                                 Traceback (most recent call last)",
            "\u001b[0;32m<ipython-input-72-6010a42f1c09>\u001b[0m in \u001b[0;36m<cell line: 1>\u001b[0;34m()\u001b[0m\n\u001b[0;32m----> 1\u001b[0;31m \u001b[0mtest13\u001b[0m\u001b[0;34m(\u001b[0m\u001b[0;36m1\u001b[0m\u001b[0;34m,\u001b[0m\u001b[0;36m2\u001b[0m\u001b[0;34m,\u001b[0m\u001b[0;36m3\u001b[0m\u001b[0;34m,\u001b[0m\u001b[0;36m4\u001b[0m\u001b[0;34m)\u001b[0m\u001b[0;34m\u001b[0m\u001b[0;34m\u001b[0m\u001b[0m\n\u001b[0m",
            "\u001b[0;31mTypeError\u001b[0m: test13() missing 1 required keyword-only argument: 'a'"
          ]
        }
      ]
    },
    {
      "cell_type": "code",
      "source": [
        "test13(1,2,3,4, a=23)"
      ],
      "metadata": {
        "colab": {
          "base_uri": "https://localhost:8080/"
        },
        "id": "6lVWiI_xLx6b",
        "outputId": "bd793601-db21-481b-ab68-d585ddd9dd04"
      },
      "execution_count": null,
      "outputs": [
        {
          "output_type": "execute_result",
          "data": {
            "text/plain": [
              "((1, 2, 3, 4), 23)"
            ]
          },
          "metadata": {},
          "execution_count": 73
        }
      ]
    },
    {
      "cell_type": "markdown",
      "source": [
        "(**) double teric is used to print arguments in key : value pair of dictionary."
      ],
      "metadata": {
        "id": "L_TaCaOwMzi8"
      }
    },
    {
      "cell_type": "code",
      "source": [
        "def test15(**args):\n",
        "    return args"
      ],
      "metadata": {
        "id": "5m94nFB8MYWd"
      },
      "execution_count": null,
      "outputs": []
    },
    {
      "cell_type": "code",
      "source": [
        "type(test15())"
      ],
      "metadata": {
        "colab": {
          "base_uri": "https://localhost:8080/"
        },
        "id": "e8ABsLb7NIJf",
        "outputId": "e79f8679-b684-421c-c9c6-d2c45ea8caa6"
      },
      "execution_count": null,
      "outputs": [
        {
          "output_type": "execute_result",
          "data": {
            "text/plain": [
              "dict"
            ]
          },
          "metadata": {},
          "execution_count": 76
        }
      ]
    },
    {
      "cell_type": "code",
      "source": [
        "test15(a = [1,2,3,4], b = \"sudh\" , c = 23.45)"
      ],
      "metadata": {
        "colab": {
          "base_uri": "https://localhost:8080/"
        },
        "id": "AlYoD8ijNPgE",
        "outputId": "d02be6ca-4430-4d4a-be24-bab30a7201b4"
      },
      "execution_count": null,
      "outputs": [
        {
          "output_type": "execute_result",
          "data": {
            "text/plain": [
              "{'a': [1, 2, 3, 4], 'b': 'sudh', 'c': 23.45}"
            ]
          },
          "metadata": {},
          "execution_count": 77
        }
      ]
    },
    {
      "cell_type": "markdown",
      "source": [
        "# Lambda Functions"
      ],
      "metadata": {
        "id": "lEIK-ENENv1J"
      }
    },
    {
      "cell_type": "code",
      "source": [
        "n= 3\n",
        "p= 2"
      ],
      "metadata": {
        "id": "z7434_CrNYiI"
      },
      "execution_count": null,
      "outputs": []
    },
    {
      "cell_type": "code",
      "source": [
        "def test(n,p):\n",
        "  return n**p"
      ],
      "metadata": {
        "id": "le2n69ywRYEl"
      },
      "execution_count": null,
      "outputs": []
    },
    {
      "cell_type": "code",
      "source": [
        "test(2,3)"
      ],
      "metadata": {
        "colab": {
          "base_uri": "https://localhost:8080/"
        },
        "id": "wlZz2QfnRghn",
        "outputId": "1dad0e3c-ba74-43f5-c488-3b670dfc9f7e"
      },
      "execution_count": null,
      "outputs": [
        {
          "output_type": "execute_result",
          "data": {
            "text/plain": [
              "8"
            ]
          },
          "metadata": {},
          "execution_count": 80
        }
      ]
    },
    {
      "cell_type": "markdown",
      "source": [
        "Write same function in lambda function"
      ],
      "metadata": {
        "id": "QmKbyYuqR1Zs"
      }
    },
    {
      "cell_type": "code",
      "source": [
        "a = lambda n,p : n**p"
      ],
      "metadata": {
        "id": "cXZaWUQVRis-"
      },
      "execution_count": null,
      "outputs": []
    },
    {
      "cell_type": "code",
      "source": [
        "a (3,2)"
      ],
      "metadata": {
        "colab": {
          "base_uri": "https://localhost:8080/"
        },
        "id": "Z6mfeyCOSF2K",
        "outputId": "4ab92001-5b68-4e3b-c92d-9def05807a64"
      },
      "execution_count": null,
      "outputs": [
        {
          "output_type": "execute_result",
          "data": {
            "text/plain": [
              "9"
            ]
          },
          "metadata": {},
          "execution_count": 82
        }
      ]
    },
    {
      "cell_type": "code",
      "source": [
        "add = lambda n,p : n+p"
      ],
      "metadata": {
        "id": "jrTfvdkLSIea"
      },
      "execution_count": null,
      "outputs": []
    },
    {
      "cell_type": "code",
      "source": [
        "add (2,3)"
      ],
      "metadata": {
        "colab": {
          "base_uri": "https://localhost:8080/"
        },
        "id": "4WKhsLCRSWgd",
        "outputId": "dadf60a9-6e01-458d-d989-581d5a6b3e12"
      },
      "execution_count": null,
      "outputs": [
        {
          "output_type": "execute_result",
          "data": {
            "text/plain": [
              "5"
            ]
          },
          "metadata": {},
          "execution_count": 84
        }
      ]
    },
    {
      "cell_type": "code",
      "source": [
        "c_to_f = lambda c : (9/5)*c + 32"
      ],
      "metadata": {
        "id": "cTt1HBvWSY3A"
      },
      "execution_count": null,
      "outputs": []
    },
    {
      "cell_type": "code",
      "source": [
        "c_to_f(45)"
      ],
      "metadata": {
        "colab": {
          "base_uri": "https://localhost:8080/"
        },
        "id": "ktcNDp1qSp3_",
        "outputId": "b79ed3bb-25b5-4483-cf63-d7d96b1faab8"
      },
      "execution_count": null,
      "outputs": [
        {
          "output_type": "execute_result",
          "data": {
            "text/plain": [
              "113.0"
            ]
          },
          "metadata": {},
          "execution_count": 86
        }
      ]
    },
    {
      "cell_type": "code",
      "source": [
        "finding_max = lambda x,y : x if x>y else y"
      ],
      "metadata": {
        "id": "ZdG2IVsSStPp"
      },
      "execution_count": null,
      "outputs": []
    },
    {
      "cell_type": "code",
      "source": [
        "finding_max(2,3)"
      ],
      "metadata": {
        "colab": {
          "base_uri": "https://localhost:8080/"
        },
        "id": "p1W1ErgXTDg9",
        "outputId": "487794db-a17c-4669-a00d-142324ec03be"
      },
      "execution_count": null,
      "outputs": [
        {
          "output_type": "execute_result",
          "data": {
            "text/plain": [
              "3"
            ]
          },
          "metadata": {},
          "execution_count": 88
        }
      ]
    },
    {
      "cell_type": "markdown",
      "source": [
        "# Generator Functions"
      ],
      "metadata": {
        "id": "Z0MkDEDbTR1W"
      }
    },
    {
      "cell_type": "code",
      "source": [
        "l = range(10)"
      ],
      "metadata": {
        "id": "NmnH6fUPTJcj"
      },
      "execution_count": null,
      "outputs": []
    },
    {
      "cell_type": "code",
      "source": [
        "l"
      ],
      "metadata": {
        "colab": {
          "base_uri": "https://localhost:8080/"
        },
        "id": "wR9GGfNpT9nO",
        "outputId": "94044633-7d66-4958-a81c-b04b7b9118ba"
      },
      "execution_count": null,
      "outputs": [
        {
          "output_type": "execute_result",
          "data": {
            "text/plain": [
              "range(0, 10)"
            ]
          },
          "metadata": {},
          "execution_count": 96
        }
      ]
    },
    {
      "cell_type": "markdown",
      "source": [
        "Range gives data in the form of of object from which you can extract data one by one"
      ],
      "metadata": {
        "id": "D732xDIYT_r8"
      }
    },
    {
      "cell_type": "code",
      "source": [
        "for i in l:\n",
        "  print(i)\n"
      ],
      "metadata": {
        "colab": {
          "base_uri": "https://localhost:8080/"
        },
        "id": "YL8tANz0TajN",
        "outputId": "63bf134a-b5b7-40af-c3f8-4fc77b2582e5"
      },
      "execution_count": null,
      "outputs": [
        {
          "output_type": "stream",
          "name": "stdout",
          "text": [
            "0\n",
            "1\n",
            "2\n",
            "3\n",
            "4\n",
            "5\n",
            "6\n",
            "7\n",
            "8\n",
            "9\n"
          ]
        }
      ]
    },
    {
      "cell_type": "markdown",
      "source": [
        "Generator function provide output in the form of onject which saves the memory consuptions as it provide data one by one as per demand of the code whereas others just store all the output in the form of list first then display output which result in havy use of memeory of the system."
      ],
      "metadata": {
        "id": "hNROF6vQVyB-"
      }
    },
    {
      "cell_type": "code",
      "source": [
        "def test_fib(n):\n",
        "  a,b = 0,1\n",
        "  for i in range(n):\n",
        "    yield a\n",
        "    a,b = b, a+b"
      ],
      "metadata": {
        "id": "pITHuq_-Tja_"
      },
      "execution_count": null,
      "outputs": []
    },
    {
      "cell_type": "code",
      "source": [
        "test_fib(10)"
      ],
      "metadata": {
        "colab": {
          "base_uri": "https://localhost:8080/"
        },
        "id": "s0QrUWPub4Cv",
        "outputId": "1755322c-7570-430f-8f3d-02eae65c2392"
      },
      "execution_count": null,
      "outputs": [
        {
          "output_type": "execute_result",
          "data": {
            "text/plain": [
              "<generator object test_fib at 0x7fc016a3f370>"
            ]
          },
          "metadata": {},
          "execution_count": 2
        }
      ]
    },
    {
      "cell_type": "code",
      "source": [
        "for i in test_fib(10):\n",
        "  print(i)"
      ],
      "metadata": {
        "colab": {
          "base_uri": "https://localhost:8080/"
        },
        "id": "rrWzRzEEb8Wx",
        "outputId": "c5bbb44a-0481-4802-c45d-da8edc0477fb"
      },
      "execution_count": null,
      "outputs": [
        {
          "output_type": "stream",
          "name": "stdout",
          "text": [
            "0\n",
            "1\n",
            "1\n",
            "2\n",
            "3\n",
            "5\n",
            "8\n",
            "13\n",
            "21\n",
            "34\n"
          ]
        }
      ]
    },
    {
      "cell_type": "markdown",
      "source": [
        "[link text](https://)https://www.geeksforgeeks.org/use-yield-keyword-instead-return-keyword-python/"
      ],
      "metadata": {
        "id": "Z6C7qTdScJMF"
      }
    },
    {
      "cell_type": "code",
      "source": [
        "def test_fib1():\n",
        "  a,b = 0,1\n",
        "  while True:\n",
        "    yield a\n",
        "    a,b = b, a+b"
      ],
      "metadata": {
        "id": "J5fZ1yWccCPr"
      },
      "execution_count": null,
      "outputs": []
    },
    {
      "cell_type": "code",
      "source": [
        "fib = test_fib1()"
      ],
      "metadata": {
        "id": "ZcBlkVn9exMk"
      },
      "execution_count": null,
      "outputs": []
    },
    {
      "cell_type": "code",
      "source": [
        "for i in range(10):\n",
        "    print(next(fib))"
      ],
      "metadata": {
        "colab": {
          "base_uri": "https://localhost:8080/"
        },
        "id": "vcvMkOyBe0z6",
        "outputId": "159446f9-cf44-497a-c256-9aadf161bd7d"
      },
      "execution_count": null,
      "outputs": [
        {
          "output_type": "stream",
          "name": "stdout",
          "text": [
            "0\n",
            "1\n",
            "1\n",
            "2\n",
            "3\n",
            "5\n",
            "8\n",
            "13\n",
            "21\n",
            "34\n"
          ]
        }
      ]
    },
    {
      "cell_type": "code",
      "source": [
        "s = \"sudh\""
      ],
      "metadata": {
        "id": "T8yDnZucfFAy"
      },
      "execution_count": null,
      "outputs": []
    },
    {
      "cell_type": "code",
      "source": [
        "next(s)"
      ],
      "metadata": {
        "colab": {
          "base_uri": "https://localhost:8080/",
          "height": 204
        },
        "id": "1Bw6DUEAfId7",
        "outputId": "5e2cb713-232f-4972-a9ec-0dad5e20b912"
      },
      "execution_count": null,
      "outputs": [
        {
          "output_type": "error",
          "ename": "TypeError",
          "evalue": "ignored",
          "traceback": [
            "\u001b[0;31m---------------------------------------------------------------------------\u001b[0m",
            "\u001b[0;31mTypeError\u001b[0m                                 Traceback (most recent call last)",
            "\u001b[0;32m<ipython-input-11-61c30b5fe1d5>\u001b[0m in \u001b[0;36m<cell line: 1>\u001b[0;34m()\u001b[0m\n\u001b[0;32m----> 1\u001b[0;31m \u001b[0mnext\u001b[0m\u001b[0;34m(\u001b[0m\u001b[0ms\u001b[0m\u001b[0;34m)\u001b[0m\u001b[0;34m\u001b[0m\u001b[0;34m\u001b[0m\u001b[0m\n\u001b[0m",
            "\u001b[0;31mTypeError\u001b[0m: 'str' object is not an iterator"
          ]
        }
      ]
    },
    {
      "cell_type": "code",
      "source": [
        "s1 = iter(s)"
      ],
      "metadata": {
        "id": "P9VVEN6gfKHV"
      },
      "execution_count": null,
      "outputs": []
    },
    {
      "cell_type": "code",
      "source": [
        "next(s1)"
      ],
      "metadata": {
        "colab": {
          "base_uri": "https://localhost:8080/",
          "height": 35
        },
        "id": "Rp4BWm3bi8Ca",
        "outputId": "4c3a6a37-1143-42f0-afac-140a058f09a0"
      },
      "execution_count": null,
      "outputs": [
        {
          "output_type": "execute_result",
          "data": {
            "text/plain": [
              "'s'"
            ],
            "application/vnd.google.colaboratory.intrinsic+json": {
              "type": "string"
            }
          },
          "metadata": {},
          "execution_count": 13
        }
      ]
    },
    {
      "cell_type": "code",
      "source": [
        "next(s1)"
      ],
      "metadata": {
        "colab": {
          "base_uri": "https://localhost:8080/",
          "height": 35
        },
        "id": "XTOgqUs4jBhx",
        "outputId": "98ff3879-0eb4-42aa-e0f9-82bb3a41eef5"
      },
      "execution_count": null,
      "outputs": [
        {
          "output_type": "execute_result",
          "data": {
            "text/plain": [
              "'u'"
            ],
            "application/vnd.google.colaboratory.intrinsic+json": {
              "type": "string"
            }
          },
          "metadata": {},
          "execution_count": 14
        }
      ]
    },
    {
      "cell_type": "code",
      "source": [
        "next(s1)"
      ],
      "metadata": {
        "colab": {
          "base_uri": "https://localhost:8080/",
          "height": 35
        },
        "id": "1pCxGHCkjf2O",
        "outputId": "bdab9fa2-7a13-44b1-e37c-14d52e6d1ef4"
      },
      "execution_count": null,
      "outputs": [
        {
          "output_type": "execute_result",
          "data": {
            "text/plain": [
              "'d'"
            ],
            "application/vnd.google.colaboratory.intrinsic+json": {
              "type": "string"
            }
          },
          "metadata": {},
          "execution_count": 15
        }
      ]
    },
    {
      "cell_type": "code",
      "source": [
        "next(s1)"
      ],
      "metadata": {
        "colab": {
          "base_uri": "https://localhost:8080/",
          "height": 35
        },
        "id": "NACfPRn2jhhQ",
        "outputId": "c19d1a3a-50ed-49bb-c5f8-77d504a5e842"
      },
      "execution_count": null,
      "outputs": [
        {
          "output_type": "execute_result",
          "data": {
            "text/plain": [
              "'h'"
            ],
            "application/vnd.google.colaboratory.intrinsic+json": {
              "type": "string"
            }
          },
          "metadata": {},
          "execution_count": 16
        }
      ]
    },
    {
      "cell_type": "markdown",
      "source": [
        "An iterator can be iterable but every iterable can't be iterator. iterator iterate on using next function whereas an iterable need to be first be iterator using iter() function then be use next()."
      ],
      "metadata": {
        "id": "uMM-xX5Wkjn6"
      }
    },
    {
      "cell_type": "code",
      "source": [
        "next(45)"
      ],
      "metadata": {
        "colab": {
          "base_uri": "https://localhost:8080/",
          "height": 204
        },
        "id": "ewk8gVqZjibq",
        "outputId": "6dd1ec16-b8ed-4ced-e16a-fe826db57155"
      },
      "execution_count": null,
      "outputs": [
        {
          "output_type": "error",
          "ename": "TypeError",
          "evalue": "ignored",
          "traceback": [
            "\u001b[0;31m---------------------------------------------------------------------------\u001b[0m",
            "\u001b[0;31mTypeError\u001b[0m                                 Traceback (most recent call last)",
            "\u001b[0;32m<ipython-input-17-474cc0349a7a>\u001b[0m in \u001b[0;36m<cell line: 1>\u001b[0;34m()\u001b[0m\n\u001b[0;32m----> 1\u001b[0;31m \u001b[0mnext\u001b[0m\u001b[0;34m(\u001b[0m\u001b[0;36m45\u001b[0m\u001b[0;34m)\u001b[0m\u001b[0;34m\u001b[0m\u001b[0;34m\u001b[0m\u001b[0m\n\u001b[0m",
            "\u001b[0;31mTypeError\u001b[0m: 'int' object is not an iterator"
          ]
        }
      ]
    },
    {
      "cell_type": "code",
      "source": [
        "iter(45)"
      ],
      "metadata": {
        "colab": {
          "base_uri": "https://localhost:8080/",
          "height": 204
        },
        "id": "JMLDNoDKkrTc",
        "outputId": "fbe9127d-e37c-41cc-f8c9-f622923cec7f"
      },
      "execution_count": null,
      "outputs": [
        {
          "output_type": "error",
          "ename": "TypeError",
          "evalue": "ignored",
          "traceback": [
            "\u001b[0;31m---------------------------------------------------------------------------\u001b[0m",
            "\u001b[0;31mTypeError\u001b[0m                                 Traceback (most recent call last)",
            "\u001b[0;32m<ipython-input-18-e50867f8c07e>\u001b[0m in \u001b[0;36m<cell line: 1>\u001b[0;34m()\u001b[0m\n\u001b[0;32m----> 1\u001b[0;31m \u001b[0miter\u001b[0m\u001b[0;34m(\u001b[0m\u001b[0;36m45\u001b[0m\u001b[0;34m)\u001b[0m\u001b[0;34m\u001b[0m\u001b[0;34m\u001b[0m\u001b[0m\n\u001b[0m",
            "\u001b[0;31mTypeError\u001b[0m: 'int' object is not iterable"
          ]
        }
      ]
    },
    {
      "cell_type": "markdown",
      "source": [
        "Intezer can't be iterator because it is not iterable"
      ],
      "metadata": {
        "id": "lglHsy6ik0Mn"
      }
    },
    {
      "cell_type": "code",
      "source": [
        "def count_test(n):\n",
        "  count = 1\n",
        "  while count <= n:\n",
        "    yield count\n",
        "    count = count+1"
      ],
      "metadata": {
        "id": "zA6vKb_hkuak"
      },
      "execution_count": null,
      "outputs": []
    },
    {
      "cell_type": "code",
      "source": [
        "c = count_test(5)"
      ],
      "metadata": {
        "id": "dbjyii-jk-zf"
      },
      "execution_count": null,
      "outputs": []
    },
    {
      "cell_type": "code",
      "source": [
        "for i in c:\n",
        "  print(i)"
      ],
      "metadata": {
        "colab": {
          "base_uri": "https://localhost:8080/"
        },
        "id": "_uLbfWtrnQBl",
        "outputId": "63523ccf-e960-45ba-ee25-f3023f6dce23"
      },
      "execution_count": null,
      "outputs": [
        {
          "output_type": "stream",
          "name": "stdout",
          "text": [
            "1\n",
            "2\n",
            "3\n",
            "4\n",
            "5\n"
          ]
        }
      ]
    },
    {
      "cell_type": "markdown",
      "source": [
        "# MAP, REDUCE & FILTER FUNC"
      ],
      "metadata": {
        "id": "0WLVo-Rxn5Jd"
      }
    },
    {
      "cell_type": "code",
      "source": [
        "l = [2,3,4,5,6]"
      ],
      "metadata": {
        "id": "g196607anTmA"
      },
      "execution_count": null,
      "outputs": []
    },
    {
      "cell_type": "code",
      "source": [
        "def test(l):\n",
        "  l1 = []\n",
        "  for i in l:\n",
        "    l1.append(i**2)\n",
        "  return l1"
      ],
      "metadata": {
        "id": "I3OzdxyfoGBP"
      },
      "execution_count": null,
      "outputs": []
    },
    {
      "cell_type": "code",
      "source": [
        "test(l)"
      ],
      "metadata": {
        "colab": {
          "base_uri": "https://localhost:8080/"
        },
        "id": "Wgo9IfjroTJh",
        "outputId": "168e00d1-de86-4b32-c8ea-d8edb8d615e8"
      },
      "execution_count": null,
      "outputs": [
        {
          "output_type": "execute_result",
          "data": {
            "text/plain": [
              "[4, 9, 16, 25, 36]"
            ]
          },
          "metadata": {},
          "execution_count": 6
        }
      ]
    },
    {
      "cell_type": "code",
      "source": [
        "def sq(x):\n",
        "  return x**2"
      ],
      "metadata": {
        "id": "jw0jvO42oU0d"
      },
      "execution_count": null,
      "outputs": []
    },
    {
      "cell_type": "code",
      "source": [
        "list(map(sq, l))"
      ],
      "metadata": {
        "id": "tpzrx4acocS7",
        "colab": {
          "base_uri": "https://localhost:8080/"
        },
        "outputId": "73b28fed-7a78-4f94-cfc1-02aa6dd2eb6a"
      },
      "execution_count": null,
      "outputs": [
        {
          "output_type": "execute_result",
          "data": {
            "text/plain": [
              "[4, 9, 16, 25, 36]"
            ]
          },
          "metadata": {},
          "execution_count": 8
        }
      ]
    },
    {
      "cell_type": "markdown",
      "source": [
        "Map func maps the each element of functions with the iterables provide as parameters in function."
      ],
      "metadata": {
        "id": "hv8p838nypuN"
      }
    },
    {
      "cell_type": "code",
      "source": [
        "list(map(lambda x : x **2, l ))"
      ],
      "metadata": {
        "colab": {
          "base_uri": "https://localhost:8080/"
        },
        "id": "9alsk_HOuc-K",
        "outputId": "ca9755d8-dd6b-4dee-a3e4-ef2d597e402d"
      },
      "execution_count": null,
      "outputs": [
        {
          "output_type": "execute_result",
          "data": {
            "text/plain": [
              "[4, 9, 16, 25, 36]"
            ]
          },
          "metadata": {},
          "execution_count": 9
        }
      ]
    },
    {
      "cell_type": "code",
      "source": [
        "l1 = [1,2,3,4,5]"
      ],
      "metadata": {
        "id": "UFVS-04ny_m6"
      },
      "execution_count": 1,
      "outputs": []
    },
    {
      "cell_type": "code",
      "source": [
        "l2 = [6,7,8,9,10]"
      ],
      "metadata": {
        "id": "YiVrzokG1y3r"
      },
      "execution_count": 2,
      "outputs": []
    },
    {
      "cell_type": "markdown",
      "source": [
        "Write function fro idex value addition from two list"
      ],
      "metadata": {
        "id": "UHUehXN92Oy6"
      }
    },
    {
      "cell_type": "code",
      "source": [
        "list(map(lambda x,y : x+y, l1, l2))"
      ],
      "metadata": {
        "colab": {
          "base_uri": "https://localhost:8080/"
        },
        "id": "qpPIFzMj14A3",
        "outputId": "3251ff4e-75c4-4091-ce9d-32d0b5467d20"
      },
      "execution_count": 4,
      "outputs": [
        {
          "output_type": "execute_result",
          "data": {
            "text/plain": [
              "[7, 9, 11, 13, 15]"
            ]
          },
          "metadata": {},
          "execution_count": 4
        }
      ]
    },
    {
      "cell_type": "code",
      "source": [
        "def add(x,y):\n",
        "  return x+y"
      ],
      "metadata": {
        "id": "77mlO1_e2OIU"
      },
      "execution_count": 5,
      "outputs": []
    },
    {
      "cell_type": "code",
      "source": [
        "list(map(add , l1, l2))"
      ],
      "metadata": {
        "colab": {
          "base_uri": "https://localhost:8080/"
        },
        "id": "acqHIzef2lOc",
        "outputId": "5c766c7b-e4ad-4d56-9e91-90364fda7af6"
      },
      "execution_count": 6,
      "outputs": [
        {
          "output_type": "execute_result",
          "data": {
            "text/plain": [
              "[7, 9, 11, 13, 15]"
            ]
          },
          "metadata": {},
          "execution_count": 6
        }
      ]
    },
    {
      "cell_type": "code",
      "source": [
        "s = \"pwskills\"\n",
        "list(map(lambda s : s.upper(), s))"
      ],
      "metadata": {
        "colab": {
          "base_uri": "https://localhost:8080/"
        },
        "id": "ZE9kQUDp2sWt",
        "outputId": "6395cf35-cb21-41a7-eda0-96953f7ff73b"
      },
      "execution_count": 7,
      "outputs": [
        {
          "output_type": "execute_result",
          "data": {
            "text/plain": [
              "['P', 'W', 'S', 'K', 'I', 'L', 'L', 'S']"
            ]
          },
          "metadata": {},
          "execution_count": 7
        }
      ]
    },
    {
      "cell_type": "markdown",
      "source": [
        "### Reduce function reduce the size of list and give single entity."
      ],
      "metadata": {
        "id": "v-CofrvM6OGp"
      }
    },
    {
      "cell_type": "markdown",
      "source": [
        "Reduce is not by default available you have to import it by calling"
      ],
      "metadata": {
        "id": "_S_xcszx99eG"
      }
    },
    {
      "cell_type": "code",
      "source": [
        "from functools import reduce"
      ],
      "metadata": {
        "id": "HArbyYYJ3BKp"
      },
      "execution_count": 8,
      "outputs": []
    },
    {
      "cell_type": "code",
      "source": [
        "l3 = [1,2,3,4,5]"
      ],
      "metadata": {
        "id": "IWZZyWZx-KAk"
      },
      "execution_count": 9,
      "outputs": []
    },
    {
      "cell_type": "markdown",
      "source": [
        "Finding summation of list"
      ],
      "metadata": {
        "id": "iVhaVFyr-SE8"
      }
    },
    {
      "cell_type": "code",
      "source": [
        "reduce(lambda x,y : x+y , l3)"
      ],
      "metadata": {
        "colab": {
          "base_uri": "https://localhost:8080/"
        },
        "id": "kyZCJvMU-PN-",
        "outputId": "cccf19a7-3c4c-4c71-8565-98af06033381"
      },
      "execution_count": 10,
      "outputs": [
        {
          "output_type": "execute_result",
          "data": {
            "text/plain": [
              "15"
            ]
          },
          "metadata": {},
          "execution_count": 10
        }
      ]
    },
    {
      "cell_type": "markdown",
      "source": [
        "#### Reduce func works only on two input such as x,y and not on three entity x,y,z."
      ],
      "metadata": {
        "id": "4iDTFIwj-fP5"
      }
    },
    {
      "cell_type": "code",
      "source": [
        "reduce(lambda x,y,z : x+y+z, l3)"
      ],
      "metadata": {
        "colab": {
          "base_uri": "https://localhost:8080/",
          "height": 204
        },
        "id": "OlxUKHPX-blg",
        "outputId": "b9a66ed4-3996-4518-e969-9414543e443a"
      },
      "execution_count": 11,
      "outputs": [
        {
          "output_type": "error",
          "ename": "TypeError",
          "evalue": "ignored",
          "traceback": [
            "\u001b[0;31m---------------------------------------------------------------------------\u001b[0m",
            "\u001b[0;31mTypeError\u001b[0m                                 Traceback (most recent call last)",
            "\u001b[0;32m<ipython-input-11-eeee41b5e68b>\u001b[0m in \u001b[0;36m<cell line: 1>\u001b[0;34m()\u001b[0m\n\u001b[0;32m----> 1\u001b[0;31m \u001b[0mreduce\u001b[0m\u001b[0;34m(\u001b[0m\u001b[0;32mlambda\u001b[0m \u001b[0mx\u001b[0m\u001b[0;34m,\u001b[0m\u001b[0my\u001b[0m\u001b[0;34m,\u001b[0m\u001b[0mz\u001b[0m \u001b[0;34m:\u001b[0m \u001b[0mx\u001b[0m\u001b[0;34m+\u001b[0m\u001b[0my\u001b[0m\u001b[0;34m+\u001b[0m\u001b[0mz\u001b[0m\u001b[0;34m,\u001b[0m \u001b[0ml3\u001b[0m\u001b[0;34m)\u001b[0m\u001b[0;34m\u001b[0m\u001b[0;34m\u001b[0m\u001b[0m\n\u001b[0m",
            "\u001b[0;31mTypeError\u001b[0m: <lambda>() missing 1 required positional argument: 'z'"
          ]
        }
      ]
    },
    {
      "cell_type": "markdown",
      "source": [
        "#### Reduce func has two input one is func and other is iterable so empty list can't be put in func.\n"
      ],
      "metadata": {
        "id": "8L6rDdUe-39p"
      }
    },
    {
      "cell_type": "code",
      "source": [
        "reduce(lambda x,y : x+y ,[])"
      ],
      "metadata": {
        "colab": {
          "base_uri": "https://localhost:8080/",
          "height": 204
        },
        "id": "RaLipw70-zS9",
        "outputId": "c4be8e39-13aa-49cd-f9f6-7d76df289a79"
      },
      "execution_count": 12,
      "outputs": [
        {
          "output_type": "error",
          "ename": "TypeError",
          "evalue": "ignored",
          "traceback": [
            "\u001b[0;31m---------------------------------------------------------------------------\u001b[0m",
            "\u001b[0;31mTypeError\u001b[0m                                 Traceback (most recent call last)",
            "\u001b[0;32m<ipython-input-12-3170c5c4da9b>\u001b[0m in \u001b[0;36m<cell line: 1>\u001b[0;34m()\u001b[0m\n\u001b[0;32m----> 1\u001b[0;31m \u001b[0mreduce\u001b[0m\u001b[0;34m(\u001b[0m\u001b[0;32mlambda\u001b[0m \u001b[0mx\u001b[0m\u001b[0;34m,\u001b[0m\u001b[0my\u001b[0m \u001b[0;34m:\u001b[0m \u001b[0mx\u001b[0m\u001b[0;34m+\u001b[0m\u001b[0my\u001b[0m \u001b[0;34m,\u001b[0m\u001b[0;34m[\u001b[0m\u001b[0;34m]\u001b[0m\u001b[0;34m)\u001b[0m\u001b[0;34m\u001b[0m\u001b[0;34m\u001b[0m\u001b[0m\n\u001b[0m",
            "\u001b[0;31mTypeError\u001b[0m: reduce() of empty iterable with no initial value"
          ]
        }
      ]
    },
    {
      "cell_type": "markdown",
      "source": [
        "#### Exceptional case of reduce func taking one as iterable in list"
      ],
      "metadata": {
        "id": "1-j_dNVg_Ove"
      }
    },
    {
      "cell_type": "code",
      "source": [
        "reduce(lambda x,y : x+y, [1])"
      ],
      "metadata": {
        "colab": {
          "base_uri": "https://localhost:8080/"
        },
        "id": "KeNMZS0i_LoV",
        "outputId": "6bced723-e6fa-4478-cce3-fdc5ec65a01c"
      },
      "execution_count": 13,
      "outputs": [
        {
          "output_type": "execute_result",
          "data": {
            "text/plain": [
              "1"
            ]
          },
          "metadata": {},
          "execution_count": 13
        }
      ]
    },
    {
      "cell_type": "markdown",
      "source": [
        "Finding the largest number from list"
      ],
      "metadata": {
        "id": "KOIJpaS9_tVx"
      }
    },
    {
      "cell_type": "code",
      "source": [
        "reduce(lambda x,y : x if x>y  else y, l3)"
      ],
      "metadata": {
        "colab": {
          "base_uri": "https://localhost:8080/"
        },
        "id": "D2ODCj8q_ldd",
        "outputId": "58698905-7753-4b09-cd38-55504742d4e8"
      },
      "execution_count": 15,
      "outputs": [
        {
          "output_type": "execute_result",
          "data": {
            "text/plain": [
              "5"
            ]
          },
          "metadata": {},
          "execution_count": 15
        }
      ]
    },
    {
      "cell_type": "markdown",
      "source": [
        "### Filter func filter out the element or entity from the list asking for."
      ],
      "metadata": {
        "id": "xTVY52ElAGZj"
      }
    },
    {
      "cell_type": "markdown",
      "source": [
        "Writing function for finding even functions"
      ],
      "metadata": {
        "id": "wrN9JP_OAjJv"
      }
    },
    {
      "cell_type": "code",
      "source": [
        "l3"
      ],
      "metadata": {
        "colab": {
          "base_uri": "https://localhost:8080/"
        },
        "id": "APNkQ0SY_-8b",
        "outputId": "a5512871-6c0a-447f-8a70-2fa702a07ce5"
      },
      "execution_count": 16,
      "outputs": [
        {
          "output_type": "execute_result",
          "data": {
            "text/plain": [
              "[1, 2, 3, 4, 5]"
            ]
          },
          "metadata": {},
          "execution_count": 16
        }
      ]
    },
    {
      "cell_type": "code",
      "source": [
        "list(filter(lambda x : x%2 == 0 , l3))"
      ],
      "metadata": {
        "colab": {
          "base_uri": "https://localhost:8080/"
        },
        "id": "dd2fkHgaApHN",
        "outputId": "318fff22-c6e5-45fb-81ba-0ab8a0623263"
      },
      "execution_count": 18,
      "outputs": [
        {
          "output_type": "execute_result",
          "data": {
            "text/plain": [
              "[2, 4]"
            ]
          },
          "metadata": {},
          "execution_count": 18
        }
      ]
    },
    {
      "cell_type": "markdown",
      "source": [
        "Func for finding odd"
      ],
      "metadata": {
        "id": "yFR3N2-bBCjx"
      }
    },
    {
      "cell_type": "code",
      "source": [
        "list(filter(lambda x : x%2 != 0 , l3))"
      ],
      "metadata": {
        "colab": {
          "base_uri": "https://localhost:8080/"
        },
        "id": "kmQMlkgrA39t",
        "outputId": "0e46a1b6-c329-4249-c845-cedac64630b8"
      },
      "execution_count": 20,
      "outputs": [
        {
          "output_type": "execute_result",
          "data": {
            "text/plain": [
              "[1, 3, 5]"
            ]
          },
          "metadata": {},
          "execution_count": 20
        }
      ]
    },
    {
      "cell_type": "markdown",
      "source": [
        "Filter negative element from the list"
      ],
      "metadata": {
        "id": "odzcJljgBWS5"
      }
    },
    {
      "cell_type": "code",
      "source": [
        "l4 = [-3, 4,5,6,-1, -5]"
      ],
      "metadata": {
        "id": "bCFnj9ADBOzM"
      },
      "execution_count": 21,
      "outputs": []
    },
    {
      "cell_type": "code",
      "source": [
        "list(filter(lambda x : x<0, l4))"
      ],
      "metadata": {
        "colab": {
          "base_uri": "https://localhost:8080/"
        },
        "id": "Fz_4CEgABfDs",
        "outputId": "67ed5cd8-c239-452c-9803-6908e04ce2b2"
      },
      "execution_count": 22,
      "outputs": [
        {
          "output_type": "execute_result",
          "data": {
            "text/plain": [
              "[-3, -1, -5]"
            ]
          },
          "metadata": {},
          "execution_count": 22
        }
      ]
    },
    {
      "cell_type": "markdown",
      "source": [
        "Finding string whoes length is less then 6."
      ],
      "metadata": {
        "id": "8L6dsqmwBvcz"
      }
    },
    {
      "cell_type": "code",
      "source": [
        "l5 = [\"sudh\", \"pwskills\", \"kumar\", \"banglore\", \"krish\"]"
      ],
      "metadata": {
        "id": "7YN05aleBoac"
      },
      "execution_count": 23,
      "outputs": []
    },
    {
      "cell_type": "code",
      "source": [
        "list(filter(lambda x : len(x)<6 , l5))"
      ],
      "metadata": {
        "colab": {
          "base_uri": "https://localhost:8080/"
        },
        "id": "6nC0WSTOB_lZ",
        "outputId": "d721cc51-f723-488f-beff-d2f2bf6d5fea"
      },
      "execution_count": 24,
      "outputs": [
        {
          "output_type": "execute_result",
          "data": {
            "text/plain": [
              "['sudh', 'kumar', 'krish']"
            ]
          },
          "metadata": {},
          "execution_count": 24
        }
      ]
    },
    {
      "cell_type": "code",
      "source": [],
      "metadata": {
        "id": "-D85IC3bCK9k"
      },
      "execution_count": null,
      "outputs": []
    }
  ]
}